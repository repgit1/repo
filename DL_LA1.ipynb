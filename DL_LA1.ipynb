{
  "cells": [
    {
      "cell_type": "code",
      "execution_count": null,
      "metadata": {
        "id": "IqTUUFvF2Cm2"
      },
      "outputs": [],
      "source": [
        "import numpy as np\n",
        "import pandas as pd"
      ]
    },
    {
      "cell_type": "code",
      "execution_count": null,
      "metadata": {
        "id": "V6Gzs3mh2KPq"
      },
      "outputs": [],
      "source": [
        "column_names = ['CRIM', 'ZN', 'INDUS', 'CHAS', 'NOX', 'RM', 'AGE', 'DIS', 'RAD', 'TAX', 'PTRATIO', 'B', 'LSTAT', 'MEDV']\n",
        "df = pd.read_csv(\"/content/drive/MyDrive/DL Datasets/housing.csv\",header=None,delimiter=r\"\\s+\",names=column_names)"
      ]
    },
    {
      "cell_type": "code",
      "execution_count": null,
      "metadata": {
        "colab": {
          "base_uri": "https://localhost:8080/",
          "height": 206
        },
        "id": "C92B-UmU2UIt",
        "outputId": "1eea1816-c9d6-42b9-ddf5-ee060ae5b182"
      },
      "outputs": [
        {
          "output_type": "execute_result",
          "data": {
            "text/plain": [
              "      CRIM    ZN  INDUS  CHAS    NOX     RM   AGE     DIS  RAD    TAX  \\\n",
              "0  0.00632  18.0   2.31     0  0.538  6.575  65.2  4.0900    1  296.0   \n",
              "1  0.02731   0.0   7.07     0  0.469  6.421  78.9  4.9671    2  242.0   \n",
              "2  0.02729   0.0   7.07     0  0.469  7.185  61.1  4.9671    2  242.0   \n",
              "3  0.03237   0.0   2.18     0  0.458  6.998  45.8  6.0622    3  222.0   \n",
              "4  0.06905   0.0   2.18     0  0.458  7.147  54.2  6.0622    3  222.0   \n",
              "\n",
              "   PTRATIO       B  LSTAT  MEDV  \n",
              "0     15.3  396.90   4.98  24.0  \n",
              "1     17.8  396.90   9.14  21.6  \n",
              "2     17.8  392.83   4.03  34.7  \n",
              "3     18.7  394.63   2.94  33.4  \n",
              "4     18.7  396.90   5.33  36.2  "
            ],
            "text/html": [
              "\n",
              "  <div id=\"df-31f54204-3663-4615-a8a7-af917cd3e750\">\n",
              "    <div class=\"colab-df-container\">\n",
              "      <div>\n",
              "<style scoped>\n",
              "    .dataframe tbody tr th:only-of-type {\n",
              "        vertical-align: middle;\n",
              "    }\n",
              "\n",
              "    .dataframe tbody tr th {\n",
              "        vertical-align: top;\n",
              "    }\n",
              "\n",
              "    .dataframe thead th {\n",
              "        text-align: right;\n",
              "    }\n",
              "</style>\n",
              "<table border=\"1\" class=\"dataframe\">\n",
              "  <thead>\n",
              "    <tr style=\"text-align: right;\">\n",
              "      <th></th>\n",
              "      <th>CRIM</th>\n",
              "      <th>ZN</th>\n",
              "      <th>INDUS</th>\n",
              "      <th>CHAS</th>\n",
              "      <th>NOX</th>\n",
              "      <th>RM</th>\n",
              "      <th>AGE</th>\n",
              "      <th>DIS</th>\n",
              "      <th>RAD</th>\n",
              "      <th>TAX</th>\n",
              "      <th>PTRATIO</th>\n",
              "      <th>B</th>\n",
              "      <th>LSTAT</th>\n",
              "      <th>MEDV</th>\n",
              "    </tr>\n",
              "  </thead>\n",
              "  <tbody>\n",
              "    <tr>\n",
              "      <th>0</th>\n",
              "      <td>0.00632</td>\n",
              "      <td>18.0</td>\n",
              "      <td>2.31</td>\n",
              "      <td>0</td>\n",
              "      <td>0.538</td>\n",
              "      <td>6.575</td>\n",
              "      <td>65.2</td>\n",
              "      <td>4.0900</td>\n",
              "      <td>1</td>\n",
              "      <td>296.0</td>\n",
              "      <td>15.3</td>\n",
              "      <td>396.90</td>\n",
              "      <td>4.98</td>\n",
              "      <td>24.0</td>\n",
              "    </tr>\n",
              "    <tr>\n",
              "      <th>1</th>\n",
              "      <td>0.02731</td>\n",
              "      <td>0.0</td>\n",
              "      <td>7.07</td>\n",
              "      <td>0</td>\n",
              "      <td>0.469</td>\n",
              "      <td>6.421</td>\n",
              "      <td>78.9</td>\n",
              "      <td>4.9671</td>\n",
              "      <td>2</td>\n",
              "      <td>242.0</td>\n",
              "      <td>17.8</td>\n",
              "      <td>396.90</td>\n",
              "      <td>9.14</td>\n",
              "      <td>21.6</td>\n",
              "    </tr>\n",
              "    <tr>\n",
              "      <th>2</th>\n",
              "      <td>0.02729</td>\n",
              "      <td>0.0</td>\n",
              "      <td>7.07</td>\n",
              "      <td>0</td>\n",
              "      <td>0.469</td>\n",
              "      <td>7.185</td>\n",
              "      <td>61.1</td>\n",
              "      <td>4.9671</td>\n",
              "      <td>2</td>\n",
              "      <td>242.0</td>\n",
              "      <td>17.8</td>\n",
              "      <td>392.83</td>\n",
              "      <td>4.03</td>\n",
              "      <td>34.7</td>\n",
              "    </tr>\n",
              "    <tr>\n",
              "      <th>3</th>\n",
              "      <td>0.03237</td>\n",
              "      <td>0.0</td>\n",
              "      <td>2.18</td>\n",
              "      <td>0</td>\n",
              "      <td>0.458</td>\n",
              "      <td>6.998</td>\n",
              "      <td>45.8</td>\n",
              "      <td>6.0622</td>\n",
              "      <td>3</td>\n",
              "      <td>222.0</td>\n",
              "      <td>18.7</td>\n",
              "      <td>394.63</td>\n",
              "      <td>2.94</td>\n",
              "      <td>33.4</td>\n",
              "    </tr>\n",
              "    <tr>\n",
              "      <th>4</th>\n",
              "      <td>0.06905</td>\n",
              "      <td>0.0</td>\n",
              "      <td>2.18</td>\n",
              "      <td>0</td>\n",
              "      <td>0.458</td>\n",
              "      <td>7.147</td>\n",
              "      <td>54.2</td>\n",
              "      <td>6.0622</td>\n",
              "      <td>3</td>\n",
              "      <td>222.0</td>\n",
              "      <td>18.7</td>\n",
              "      <td>396.90</td>\n",
              "      <td>5.33</td>\n",
              "      <td>36.2</td>\n",
              "    </tr>\n",
              "  </tbody>\n",
              "</table>\n",
              "</div>\n",
              "      <button class=\"colab-df-convert\" onclick=\"convertToInteractive('df-31f54204-3663-4615-a8a7-af917cd3e750')\"\n",
              "              title=\"Convert this dataframe to an interactive table.\"\n",
              "              style=\"display:none;\">\n",
              "        \n",
              "  <svg xmlns=\"http://www.w3.org/2000/svg\" height=\"24px\"viewBox=\"0 0 24 24\"\n",
              "       width=\"24px\">\n",
              "    <path d=\"M0 0h24v24H0V0z\" fill=\"none\"/>\n",
              "    <path d=\"M18.56 5.44l.94 2.06.94-2.06 2.06-.94-2.06-.94-.94-2.06-.94 2.06-2.06.94zm-11 1L8.5 8.5l.94-2.06 2.06-.94-2.06-.94L8.5 2.5l-.94 2.06-2.06.94zm10 10l.94 2.06.94-2.06 2.06-.94-2.06-.94-.94-2.06-.94 2.06-2.06.94z\"/><path d=\"M17.41 7.96l-1.37-1.37c-.4-.4-.92-.59-1.43-.59-.52 0-1.04.2-1.43.59L10.3 9.45l-7.72 7.72c-.78.78-.78 2.05 0 2.83L4 21.41c.39.39.9.59 1.41.59.51 0 1.02-.2 1.41-.59l7.78-7.78 2.81-2.81c.8-.78.8-2.07 0-2.86zM5.41 20L4 18.59l7.72-7.72 1.47 1.35L5.41 20z\"/>\n",
              "  </svg>\n",
              "      </button>\n",
              "      \n",
              "  <style>\n",
              "    .colab-df-container {\n",
              "      display:flex;\n",
              "      flex-wrap:wrap;\n",
              "      gap: 12px;\n",
              "    }\n",
              "\n",
              "    .colab-df-convert {\n",
              "      background-color: #E8F0FE;\n",
              "      border: none;\n",
              "      border-radius: 50%;\n",
              "      cursor: pointer;\n",
              "      display: none;\n",
              "      fill: #1967D2;\n",
              "      height: 32px;\n",
              "      padding: 0 0 0 0;\n",
              "      width: 32px;\n",
              "    }\n",
              "\n",
              "    .colab-df-convert:hover {\n",
              "      background-color: #E2EBFA;\n",
              "      box-shadow: 0px 1px 2px rgba(60, 64, 67, 0.3), 0px 1px 3px 1px rgba(60, 64, 67, 0.15);\n",
              "      fill: #174EA6;\n",
              "    }\n",
              "\n",
              "    [theme=dark] .colab-df-convert {\n",
              "      background-color: #3B4455;\n",
              "      fill: #D2E3FC;\n",
              "    }\n",
              "\n",
              "    [theme=dark] .colab-df-convert:hover {\n",
              "      background-color: #434B5C;\n",
              "      box-shadow: 0px 1px 3px 1px rgba(0, 0, 0, 0.15);\n",
              "      filter: drop-shadow(0px 1px 2px rgba(0, 0, 0, 0.3));\n",
              "      fill: #FFFFFF;\n",
              "    }\n",
              "  </style>\n",
              "\n",
              "      <script>\n",
              "        const buttonEl =\n",
              "          document.querySelector('#df-31f54204-3663-4615-a8a7-af917cd3e750 button.colab-df-convert');\n",
              "        buttonEl.style.display =\n",
              "          google.colab.kernel.accessAllowed ? 'block' : 'none';\n",
              "\n",
              "        async function convertToInteractive(key) {\n",
              "          const element = document.querySelector('#df-31f54204-3663-4615-a8a7-af917cd3e750');\n",
              "          const dataTable =\n",
              "            await google.colab.kernel.invokeFunction('convertToInteractive',\n",
              "                                                     [key], {});\n",
              "          if (!dataTable) return;\n",
              "\n",
              "          const docLinkHtml = 'Like what you see? Visit the ' +\n",
              "            '<a target=\"_blank\" href=https://colab.research.google.com/notebooks/data_table.ipynb>data table notebook</a>'\n",
              "            + ' to learn more about interactive tables.';\n",
              "          element.innerHTML = '';\n",
              "          dataTable['output_type'] = 'display_data';\n",
              "          await google.colab.output.renderOutput(dataTable, element);\n",
              "          const docLink = document.createElement('div');\n",
              "          docLink.innerHTML = docLinkHtml;\n",
              "          element.appendChild(docLink);\n",
              "        }\n",
              "      </script>\n",
              "    </div>\n",
              "  </div>\n",
              "  "
            ]
          },
          "metadata": {},
          "execution_count": 6
        }
      ],
      "source": [
        "df.head()"
      ]
    },
    {
      "cell_type": "code",
      "execution_count": null,
      "metadata": {
        "colab": {
          "base_uri": "https://localhost:8080/"
        },
        "id": "6iFv1IRsR1Mk",
        "outputId": "a8c42499-a3d7-4943-c908-e55adc9a504e"
      },
      "outputs": [
        {
          "data": {
            "text/plain": [
              "CRIM       0\n",
              "ZN         0\n",
              "INDUS      0\n",
              "CHAS       0\n",
              "NOX        0\n",
              "RM         0\n",
              "AGE        0\n",
              "DIS        0\n",
              "RAD        0\n",
              "TAX        0\n",
              "PTRATIO    0\n",
              "B          0\n",
              "LSTAT      0\n",
              "MEDV       0\n",
              "dtype: int64"
            ]
          },
          "execution_count": 10,
          "metadata": {},
          "output_type": "execute_result"
        }
      ],
      "source": [
        "df.isnull().sum()"
      ]
    },
    {
      "cell_type": "code",
      "execution_count": null,
      "metadata": {
        "colab": {
          "base_uri": "https://localhost:8080/",
          "height": 364
        },
        "id": "hY__B1gER7Ej",
        "outputId": "5e38c5d9-c4ee-4380-b94b-f5a25f627ead"
      },
      "outputs": [
        {
          "data": {
            "text/html": [
              "\n",
              "  <div id=\"df-15172313-d886-4b3d-a2bc-8f99b3147670\">\n",
              "    <div class=\"colab-df-container\">\n",
              "      <div>\n",
              "<style scoped>\n",
              "    .dataframe tbody tr th:only-of-type {\n",
              "        vertical-align: middle;\n",
              "    }\n",
              "\n",
              "    .dataframe tbody tr th {\n",
              "        vertical-align: top;\n",
              "    }\n",
              "\n",
              "    .dataframe thead th {\n",
              "        text-align: right;\n",
              "    }\n",
              "</style>\n",
              "<table border=\"1\" class=\"dataframe\">\n",
              "  <thead>\n",
              "    <tr style=\"text-align: right;\">\n",
              "      <th></th>\n",
              "      <th>CRIM</th>\n",
              "      <th>ZN</th>\n",
              "      <th>INDUS</th>\n",
              "      <th>CHAS</th>\n",
              "      <th>NOX</th>\n",
              "      <th>RM</th>\n",
              "      <th>AGE</th>\n",
              "      <th>DIS</th>\n",
              "      <th>RAD</th>\n",
              "      <th>TAX</th>\n",
              "      <th>PTRATIO</th>\n",
              "      <th>B</th>\n",
              "      <th>LSTAT</th>\n",
              "      <th>MEDV</th>\n",
              "    </tr>\n",
              "  </thead>\n",
              "  <tbody>\n",
              "    <tr>\n",
              "      <th>count</th>\n",
              "      <td>506.000000</td>\n",
              "      <td>506.000000</td>\n",
              "      <td>506.000000</td>\n",
              "      <td>506.000000</td>\n",
              "      <td>506.000000</td>\n",
              "      <td>506.000000</td>\n",
              "      <td>506.000000</td>\n",
              "      <td>506.000000</td>\n",
              "      <td>506.000000</td>\n",
              "      <td>506.000000</td>\n",
              "      <td>506.000000</td>\n",
              "      <td>506.000000</td>\n",
              "      <td>506.000000</td>\n",
              "      <td>506.000000</td>\n",
              "    </tr>\n",
              "    <tr>\n",
              "      <th>mean</th>\n",
              "      <td>3.613524</td>\n",
              "      <td>11.363636</td>\n",
              "      <td>11.136779</td>\n",
              "      <td>0.069170</td>\n",
              "      <td>0.554695</td>\n",
              "      <td>6.284634</td>\n",
              "      <td>68.574901</td>\n",
              "      <td>3.795043</td>\n",
              "      <td>9.549407</td>\n",
              "      <td>408.237154</td>\n",
              "      <td>18.455534</td>\n",
              "      <td>356.674032</td>\n",
              "      <td>12.653063</td>\n",
              "      <td>22.532806</td>\n",
              "    </tr>\n",
              "    <tr>\n",
              "      <th>std</th>\n",
              "      <td>8.601545</td>\n",
              "      <td>23.322453</td>\n",
              "      <td>6.860353</td>\n",
              "      <td>0.253994</td>\n",
              "      <td>0.115878</td>\n",
              "      <td>0.702617</td>\n",
              "      <td>28.148861</td>\n",
              "      <td>2.105710</td>\n",
              "      <td>8.707259</td>\n",
              "      <td>168.537116</td>\n",
              "      <td>2.164946</td>\n",
              "      <td>91.294864</td>\n",
              "      <td>7.141062</td>\n",
              "      <td>9.197104</td>\n",
              "    </tr>\n",
              "    <tr>\n",
              "      <th>min</th>\n",
              "      <td>0.006320</td>\n",
              "      <td>0.000000</td>\n",
              "      <td>0.460000</td>\n",
              "      <td>0.000000</td>\n",
              "      <td>0.385000</td>\n",
              "      <td>3.561000</td>\n",
              "      <td>2.900000</td>\n",
              "      <td>1.129600</td>\n",
              "      <td>1.000000</td>\n",
              "      <td>187.000000</td>\n",
              "      <td>12.600000</td>\n",
              "      <td>0.320000</td>\n",
              "      <td>1.730000</td>\n",
              "      <td>5.000000</td>\n",
              "    </tr>\n",
              "    <tr>\n",
              "      <th>25%</th>\n",
              "      <td>0.082045</td>\n",
              "      <td>0.000000</td>\n",
              "      <td>5.190000</td>\n",
              "      <td>0.000000</td>\n",
              "      <td>0.449000</td>\n",
              "      <td>5.885500</td>\n",
              "      <td>45.025000</td>\n",
              "      <td>2.100175</td>\n",
              "      <td>4.000000</td>\n",
              "      <td>279.000000</td>\n",
              "      <td>17.400000</td>\n",
              "      <td>375.377500</td>\n",
              "      <td>6.950000</td>\n",
              "      <td>17.025000</td>\n",
              "    </tr>\n",
              "    <tr>\n",
              "      <th>50%</th>\n",
              "      <td>0.256510</td>\n",
              "      <td>0.000000</td>\n",
              "      <td>9.690000</td>\n",
              "      <td>0.000000</td>\n",
              "      <td>0.538000</td>\n",
              "      <td>6.208500</td>\n",
              "      <td>77.500000</td>\n",
              "      <td>3.207450</td>\n",
              "      <td>5.000000</td>\n",
              "      <td>330.000000</td>\n",
              "      <td>19.050000</td>\n",
              "      <td>391.440000</td>\n",
              "      <td>11.360000</td>\n",
              "      <td>21.200000</td>\n",
              "    </tr>\n",
              "    <tr>\n",
              "      <th>75%</th>\n",
              "      <td>3.677083</td>\n",
              "      <td>12.500000</td>\n",
              "      <td>18.100000</td>\n",
              "      <td>0.000000</td>\n",
              "      <td>0.624000</td>\n",
              "      <td>6.623500</td>\n",
              "      <td>94.075000</td>\n",
              "      <td>5.188425</td>\n",
              "      <td>24.000000</td>\n",
              "      <td>666.000000</td>\n",
              "      <td>20.200000</td>\n",
              "      <td>396.225000</td>\n",
              "      <td>16.955000</td>\n",
              "      <td>25.000000</td>\n",
              "    </tr>\n",
              "    <tr>\n",
              "      <th>max</th>\n",
              "      <td>88.976200</td>\n",
              "      <td>100.000000</td>\n",
              "      <td>27.740000</td>\n",
              "      <td>1.000000</td>\n",
              "      <td>0.871000</td>\n",
              "      <td>8.780000</td>\n",
              "      <td>100.000000</td>\n",
              "      <td>12.126500</td>\n",
              "      <td>24.000000</td>\n",
              "      <td>711.000000</td>\n",
              "      <td>22.000000</td>\n",
              "      <td>396.900000</td>\n",
              "      <td>37.970000</td>\n",
              "      <td>50.000000</td>\n",
              "    </tr>\n",
              "  </tbody>\n",
              "</table>\n",
              "</div>\n",
              "      <button class=\"colab-df-convert\" onclick=\"convertToInteractive('df-15172313-d886-4b3d-a2bc-8f99b3147670')\"\n",
              "              title=\"Convert this dataframe to an interactive table.\"\n",
              "              style=\"display:none;\">\n",
              "        \n",
              "  <svg xmlns=\"http://www.w3.org/2000/svg\" height=\"24px\"viewBox=\"0 0 24 24\"\n",
              "       width=\"24px\">\n",
              "    <path d=\"M0 0h24v24H0V0z\" fill=\"none\"/>\n",
              "    <path d=\"M18.56 5.44l.94 2.06.94-2.06 2.06-.94-2.06-.94-.94-2.06-.94 2.06-2.06.94zm-11 1L8.5 8.5l.94-2.06 2.06-.94-2.06-.94L8.5 2.5l-.94 2.06-2.06.94zm10 10l.94 2.06.94-2.06 2.06-.94-2.06-.94-.94-2.06-.94 2.06-2.06.94z\"/><path d=\"M17.41 7.96l-1.37-1.37c-.4-.4-.92-.59-1.43-.59-.52 0-1.04.2-1.43.59L10.3 9.45l-7.72 7.72c-.78.78-.78 2.05 0 2.83L4 21.41c.39.39.9.59 1.41.59.51 0 1.02-.2 1.41-.59l7.78-7.78 2.81-2.81c.8-.78.8-2.07 0-2.86zM5.41 20L4 18.59l7.72-7.72 1.47 1.35L5.41 20z\"/>\n",
              "  </svg>\n",
              "      </button>\n",
              "      \n",
              "  <style>\n",
              "    .colab-df-container {\n",
              "      display:flex;\n",
              "      flex-wrap:wrap;\n",
              "      gap: 12px;\n",
              "    }\n",
              "\n",
              "    .colab-df-convert {\n",
              "      background-color: #E8F0FE;\n",
              "      border: none;\n",
              "      border-radius: 50%;\n",
              "      cursor: pointer;\n",
              "      display: none;\n",
              "      fill: #1967D2;\n",
              "      height: 32px;\n",
              "      padding: 0 0 0 0;\n",
              "      width: 32px;\n",
              "    }\n",
              "\n",
              "    .colab-df-convert:hover {\n",
              "      background-color: #E2EBFA;\n",
              "      box-shadow: 0px 1px 2px rgba(60, 64, 67, 0.3), 0px 1px 3px 1px rgba(60, 64, 67, 0.15);\n",
              "      fill: #174EA6;\n",
              "    }\n",
              "\n",
              "    [theme=dark] .colab-df-convert {\n",
              "      background-color: #3B4455;\n",
              "      fill: #D2E3FC;\n",
              "    }\n",
              "\n",
              "    [theme=dark] .colab-df-convert:hover {\n",
              "      background-color: #434B5C;\n",
              "      box-shadow: 0px 1px 3px 1px rgba(0, 0, 0, 0.15);\n",
              "      filter: drop-shadow(0px 1px 2px rgba(0, 0, 0, 0.3));\n",
              "      fill: #FFFFFF;\n",
              "    }\n",
              "  </style>\n",
              "\n",
              "      <script>\n",
              "        const buttonEl =\n",
              "          document.querySelector('#df-15172313-d886-4b3d-a2bc-8f99b3147670 button.colab-df-convert');\n",
              "        buttonEl.style.display =\n",
              "          google.colab.kernel.accessAllowed ? 'block' : 'none';\n",
              "\n",
              "        async function convertToInteractive(key) {\n",
              "          const element = document.querySelector('#df-15172313-d886-4b3d-a2bc-8f99b3147670');\n",
              "          const dataTable =\n",
              "            await google.colab.kernel.invokeFunction('convertToInteractive',\n",
              "                                                     [key], {});\n",
              "          if (!dataTable) return;\n",
              "\n",
              "          const docLinkHtml = 'Like what you see? Visit the ' +\n",
              "            '<a target=\"_blank\" href=https://colab.research.google.com/notebooks/data_table.ipynb>data table notebook</a>'\n",
              "            + ' to learn more about interactive tables.';\n",
              "          element.innerHTML = '';\n",
              "          dataTable['output_type'] = 'display_data';\n",
              "          await google.colab.output.renderOutput(dataTable, element);\n",
              "          const docLink = document.createElement('div');\n",
              "          docLink.innerHTML = docLinkHtml;\n",
              "          element.appendChild(docLink);\n",
              "        }\n",
              "      </script>\n",
              "    </div>\n",
              "  </div>\n",
              "  "
            ],
            "text/plain": [
              "             CRIM          ZN       INDUS        CHAS         NOX          RM  \\\n",
              "count  506.000000  506.000000  506.000000  506.000000  506.000000  506.000000   \n",
              "mean     3.613524   11.363636   11.136779    0.069170    0.554695    6.284634   \n",
              "std      8.601545   23.322453    6.860353    0.253994    0.115878    0.702617   \n",
              "min      0.006320    0.000000    0.460000    0.000000    0.385000    3.561000   \n",
              "25%      0.082045    0.000000    5.190000    0.000000    0.449000    5.885500   \n",
              "50%      0.256510    0.000000    9.690000    0.000000    0.538000    6.208500   \n",
              "75%      3.677083   12.500000   18.100000    0.000000    0.624000    6.623500   \n",
              "max     88.976200  100.000000   27.740000    1.000000    0.871000    8.780000   \n",
              "\n",
              "              AGE         DIS         RAD         TAX     PTRATIO           B  \\\n",
              "count  506.000000  506.000000  506.000000  506.000000  506.000000  506.000000   \n",
              "mean    68.574901    3.795043    9.549407  408.237154   18.455534  356.674032   \n",
              "std     28.148861    2.105710    8.707259  168.537116    2.164946   91.294864   \n",
              "min      2.900000    1.129600    1.000000  187.000000   12.600000    0.320000   \n",
              "25%     45.025000    2.100175    4.000000  279.000000   17.400000  375.377500   \n",
              "50%     77.500000    3.207450    5.000000  330.000000   19.050000  391.440000   \n",
              "75%     94.075000    5.188425   24.000000  666.000000   20.200000  396.225000   \n",
              "max    100.000000   12.126500   24.000000  711.000000   22.000000  396.900000   \n",
              "\n",
              "            LSTAT        MEDV  \n",
              "count  506.000000  506.000000  \n",
              "mean    12.653063   22.532806  \n",
              "std      7.141062    9.197104  \n",
              "min      1.730000    5.000000  \n",
              "25%      6.950000   17.025000  \n",
              "50%     11.360000   21.200000  \n",
              "75%     16.955000   25.000000  \n",
              "max     37.970000   50.000000  "
            ]
          },
          "execution_count": 11,
          "metadata": {},
          "output_type": "execute_result"
        }
      ],
      "source": [
        "df.describe()"
      ]
    },
    {
      "cell_type": "code",
      "source": [
        "df.info()"
      ],
      "metadata": {
        "colab": {
          "base_uri": "https://localhost:8080/"
        },
        "id": "IKNepyvlN_tT",
        "outputId": "009b1b8f-7c0f-4acf-d77a-f96e3bf4cdd3"
      },
      "execution_count": null,
      "outputs": [
        {
          "output_type": "stream",
          "name": "stdout",
          "text": [
            "<class 'pandas.core.frame.DataFrame'>\n",
            "RangeIndex: 506 entries, 0 to 505\n",
            "Data columns (total 14 columns):\n",
            " #   Column   Non-Null Count  Dtype  \n",
            "---  ------   --------------  -----  \n",
            " 0   CRIM     506 non-null    float64\n",
            " 1   ZN       506 non-null    float64\n",
            " 2   INDUS    506 non-null    float64\n",
            " 3   CHAS     506 non-null    int64  \n",
            " 4   NOX      506 non-null    float64\n",
            " 5   RM       506 non-null    float64\n",
            " 6   AGE      506 non-null    float64\n",
            " 7   DIS      506 non-null    float64\n",
            " 8   RAD      506 non-null    int64  \n",
            " 9   TAX      506 non-null    float64\n",
            " 10  PTRATIO  506 non-null    float64\n",
            " 11  B        506 non-null    float64\n",
            " 12  LSTAT    506 non-null    float64\n",
            " 13  MEDV     506 non-null    float64\n",
            "dtypes: float64(12), int64(2)\n",
            "memory usage: 55.5 KB\n"
          ]
        }
      ]
    },
    {
      "cell_type": "code",
      "source": [
        "import seaborn as sns\n",
        "sns.distplot(df.MEDV)"
      ],
      "metadata": {
        "colab": {
          "base_uri": "https://localhost:8080/",
          "height": 497
        },
        "id": "ajpZ2IhdODy6",
        "outputId": "2d7abec7-b8df-4f74-ab2e-70869f462dd2"
      },
      "execution_count": null,
      "outputs": [
        {
          "output_type": "stream",
          "name": "stderr",
          "text": [
            "<ipython-input-8-1f29402cd34c>:2: UserWarning: \n",
            "\n",
            "`distplot` is a deprecated function and will be removed in seaborn v0.14.0.\n",
            "\n",
            "Please adapt your code to use either `displot` (a figure-level function with\n",
            "similar flexibility) or `histplot` (an axes-level function for histograms).\n",
            "\n",
            "For a guide to updating your code to use the new functions, please see\n",
            "https://gist.github.com/mwaskom/de44147ed2974457ad6372750bbe5751\n",
            "\n",
            "  sns.distplot(df.MEDV)\n"
          ]
        },
        {
          "output_type": "execute_result",
          "data": {
            "text/plain": [
              "<Axes: xlabel='MEDV', ylabel='Density'>"
            ]
          },
          "metadata": {},
          "execution_count": 8
        },
        {
          "output_type": "display_data",
          "data": {
            "text/plain": [
              "<Figure size 432x288 with 1 Axes>"
            ],
            "image/png": "[encoded data removed]"
          },
          "metadata": {
            "needs_background": "light"
          }
        }
      ]
    },
    {
      "cell_type": "code",
      "source": [
        "sns.boxplot(df.MEDV)"
      ],
      "metadata": {
        "colab": {
          "base_uri": "https://localhost:8080/",
          "height": 283
        },
        "id": "-HPM1MCEOLs4",
        "outputId": "012aaa4c-dee4-4954-ae57-68e76e41acf8"
      },
      "execution_count": null,
      "outputs": [
        {
          "output_type": "execute_result",
          "data": {
            "text/plain": [
              "<Axes: >"
            ]
          },
          "metadata": {},
          "execution_count": 9
        },
        {
          "output_type": "display_data",
          "data": {
            "text/plain": [
              "<Figure size 432x288 with 1 Axes>"
            ],
            "image/png": "[encoded data removed]"
          },
          "metadata": {
            "needs_background": "light"
          }
        }
      ]
    },
    {
      "cell_type": "code",
      "source": [
        "correlation = df.corr()\n",
        "correlation.loc['MEDV']"
      ],
      "metadata": {
        "colab": {
          "base_uri": "https://localhost:8080/"
        },
        "id": "2JVImQM2ORcF",
        "outputId": "d5a9cb17-c56b-4159-9a5c-d19b0c8c2815"
      },
      "execution_count": null,
      "outputs": [
        {
          "output_type": "execute_result",
          "data": {
            "text/plain": [
              "CRIM      -0.388305\n",
              "ZN         0.360445\n",
              "INDUS     -0.483725\n",
              "CHAS       0.175260\n",
              "NOX       -0.427321\n",
              "RM         0.695360\n",
              "AGE       -0.376955\n",
              "DIS        0.249929\n",
              "RAD       -0.381626\n",
              "TAX       -0.468536\n",
              "PTRATIO   -0.507787\n",
              "B          0.333461\n",
              "LSTAT     -0.737663\n",
              "MEDV       1.000000\n",
              "Name: MEDV, dtype: float64"
            ]
          },
          "metadata": {},
          "execution_count": 12
        }
      ]
    },
    {
      "cell_type": "code",
      "source": [
        "import matplotlib.pyplot as plt\n",
        "fig,axes = plt.subplots(figsize=(15,12))\n",
        "sns.heatmap(correlation,square = True,annot = True)"
      ],
      "metadata": {
        "colab": {
          "base_uri": "https://localhost:8080/",
          "height": 722
        },
        "id": "ysE-kmRrOcgu",
        "outputId": "00d3f5c7-6734-443c-844b-e8a3ec0f23ae"
      },
      "execution_count": null,
      "outputs": [
        {
          "output_type": "execute_result",
          "data": {
            "text/plain": [
              "<Axes: >"
            ]
          },
          "metadata": {},
          "execution_count": 13
        },
        {
          "output_type": "display_data",
          "data": {
            "text/plain": [
              "<Figure size 1080x864 with 2 Axes>"
            ],
            "image/png": "[encoded data removed]"
          },
          "metadata": {
            "needs_background": "light"
          }
        }
      ]
    },
    {
      "cell_type": "code",
      "source": [
        "plt.figure(figsize = (20,5))\n",
        "features = ['LSTAT','RM','PTRATIO']\n",
        "for i, col in enumerate(features):\n",
        "  plt.subplot(1, len(features) , i+1)\n",
        "  x = df[col]\n",
        "  y = df.MEDV\n",
        "  plt.scatter(x, y, marker='o')\n",
        "  plt.title(\"Variation in House prices\")\n",
        "  plt.xlabel(col)\n",
        "  plt.ylabel('\"House prices in $1000\"')"
      ],
      "metadata": {
        "colab": {
          "base_uri": "https://localhost:8080/",
          "height": 336
        },
        "id": "1TfjCLrpVy6f",
        "outputId": "391ccdbf-dc48-4c3c-e370-a03f5953a2af"
      },
      "execution_count": null,
      "outputs": [
        {
          "output_type": "display_data",
          "data": {
            "text/plain": [
              "<Figure size 1440x360 with 3 Axes>"
            ],
            "image/png": "[encoded data removed]"
          },
          "metadata": {
            "needs_background": "light"
          }
        }
      ]
    },
    {
      "cell_type": "code",
      "execution_count": null,
      "metadata": {
        "id": "3QOu1BI8SHI6"
      },
      "outputs": [],
      "source": [
        "X = df.iloc[:,:-1]\n",
        "y= df.MEDV"
      ]
    },
    {
      "cell_type": "code",
      "execution_count": null,
      "metadata": {
        "colab": {
          "base_uri": "https://localhost:8080/"
        },
        "id": "MNMniDhmjDl6",
        "outputId": "5529f1ad-2baf-4f3a-9d13-dd4e750dd763"
      },
      "outputs": [
        {
          "output_type": "stream",
          "name": "stdout",
          "text": [
            "(354, 13)\n",
            "(354,)\n",
            "(152, 13)\n",
            "(152,)\n"
          ]
        }
      ],
      "source": [
        "\n",
        "\n",
        "# Split the data into training and testing set\n",
        "from sklearn.model_selection import train_test_split\n",
        "X_train, X_test, y_train, y_test = train_test_split(X, y, test_size=0.3, random_state=42)\n",
        "\n",
        "# Quick sanity check with the shapes of Training and testing datasets\n",
        "print(X_train.shape)\n",
        "print(y_train.shape)\n",
        "print(X_test.shape)\n",
        "print(y_test.shape)"
      ]
    },
    {
      "cell_type": "code",
      "source": [
        "mean = X_train.mean(axis=0)\n",
        "std = X_train.std(axis=0)\n",
        "X_train = (X_train - mean) / std\n",
        "X_test = (X_test - mean) / std"
      ],
      "metadata": {
        "id": "HY9zes7pWltU"
      },
      "execution_count": null,
      "outputs": []
    },
    {
      "cell_type": "code",
      "source": [
        "#Linear Regression\n",
        "from sklearn.linear_model import LinearRegression\n",
        "regressor = LinearRegression()\n",
        "#Fitting the model\n",
        "regressor.fit(X_train,y_train)"
      ],
      "metadata": {
        "colab": {
          "base_uri": "https://localhost:8080/",
          "height": 74
        },
        "id": "OYhXe3CjWxWk",
        "outputId": "7503d02f-ddea-45c5-c16a-27f6c25c8783"
      },
      "execution_count": null,
      "outputs": [
        {
          "output_type": "execute_result",
          "data": {
            "text/plain": [
              "LinearRegression()"
            ],
            "text/html": [
              "<style>#sk-container-id-1 {color: black;background-color: white;}#sk-container-id-1 pre{padding: 0;}#sk-container-id-1 div.sk-toggleable {background-color: white;}#sk-container-id-1 label.sk-toggleable__label {cursor: pointer;display: block;width: 100%;margin-bottom: 0;padding: 0.3em;box-sizing: border-box;text-align: center;}#sk-container-id-1 label.sk-toggleable__label-arrow:before {content: \"▸\";float: left;margin-right: 0.25em;color: #696969;}#sk-container-id-1 label.sk-toggleable__label-arrow:hover:before {color: black;}#sk-container-id-1 div.sk-estimator:hover label.sk-toggleable__label-arrow:before {color: black;}#sk-container-id-1 div.sk-toggleable__content {max-height: 0;max-width: 0;overflow: hidden;text-align: left;background-color: #f0f8ff;}#sk-container-id-1 div.sk-toggleable__content pre {margin: 0.2em;color: black;border-radius: 0.25em;background-color: #f0f8ff;}#sk-container-id-1 input.sk-toggleable__control:checked~div.sk-toggleable__content {max-height: 200px;max-width: 100%;overflow: auto;}#sk-container-id-1 input.sk-toggleable__control:checked~label.sk-toggleable__label-arrow:before {content: \"▾\";}#sk-container-id-1 div.sk-estimator input.sk-toggleable__control:checked~label.sk-toggleable__label {background-color: #d4ebff;}#sk-container-id-1 div.sk-label input.sk-toggleable__control:checked~label.sk-toggleable__label {background-color: #d4ebff;}#sk-container-id-1 input.sk-hidden--visually {border: 0;clip: rect(1px 1px 1px 1px);clip: rect(1px, 1px, 1px, 1px);height: 1px;margin: -1px;overflow: hidden;padding: 0;position: absolute;width: 1px;}#sk-container-id-1 div.sk-estimator {font-family: monospace;background-color: #f0f8ff;border: 1px dotted black;border-radius: 0.25em;box-sizing: border-box;margin-bottom: 0.5em;}#sk-container-id-1 div.sk-estimator:hover {background-color: #d4ebff;}#sk-container-id-1 div.sk-parallel-item::after {content: \"\";width: 100%;border-bottom: 1px solid gray;flex-grow: 1;}#sk-container-id-1 div.sk-label:hover label.sk-toggleable__label {background-color: #d4ebff;}#sk-container-id-1 div.sk-serial::before {content: \"\";position: absolute;border-left: 1px solid gray;box-sizing: border-box;top: 0;bottom: 0;left: 50%;z-index: 0;}#sk-container-id-1 div.sk-serial {display: flex;flex-direction: column;align-items: center;background-color: white;padding-right: 0.2em;padding-left: 0.2em;position: relative;}#sk-container-id-1 div.sk-item {position: relative;z-index: 1;}#sk-container-id-1 div.sk-parallel {display: flex;align-items: stretch;justify-content: center;background-color: white;position: relative;}#sk-container-id-1 div.sk-item::before, #sk-container-id-1 div.sk-parallel-item::before {content: \"\";position: absolute;border-left: 1px solid gray;box-sizing: border-box;top: 0;bottom: 0;left: 50%;z-index: -1;}#sk-container-id-1 div.sk-parallel-item {display: flex;flex-direction: column;z-index: 1;position: relative;background-color: white;}#sk-container-id-1 div.sk-parallel-item:first-child::after {align-self: flex-end;width: 50%;}#sk-container-id-1 div.sk-parallel-item:last-child::after {align-self: flex-start;width: 50%;}#sk-container-id-1 div.sk-parallel-item:only-child::after {width: 0;}#sk-container-id-1 div.sk-dashed-wrapped {border: 1px dashed gray;margin: 0 0.4em 0.5em 0.4em;box-sizing: border-box;padding-bottom: 0.4em;background-color: white;}#sk-container-id-1 div.sk-label label {font-family: monospace;font-weight: bold;display: inline-block;line-height: 1.2em;}#sk-container-id-1 div.sk-label-container {text-align: center;}#sk-container-id-1 div.sk-container {/* jupyter's `normalize.less` sets `[hidden] { display: none; }` but bootstrap.min.css set `[hidden] { display: none !important; }` so we also need the `!important` here to be able to override the default hidden behavior on the sphinx rendered scikit-learn.org. See: https://github.com/scikit-learn/scikit-learn/issues/21755 */display: inline-block !important;position: relative;}#sk-container-id-1 div.sk-text-repr-fallback {display: none;}</style><div id=\"sk-container-id-1\" class=\"sk-top-container\"><div class=\"sk-text-repr-fallback\"><pre>LinearRegression()</pre><b>In a Jupyter environment, please rerun this cell to show the HTML representation or trust the notebook. <br />On GitHub, the HTML representation is unable to render, please try loading this page with nbviewer.org.</b></div><div class=\"sk-container\" hidden><div class=\"sk-item\"><div class=\"sk-estimator sk-toggleable\"><input class=\"sk-toggleable__control sk-hidden--visually\" id=\"sk-estimator-id-1\" type=\"checkbox\" checked><label for=\"sk-estimator-id-1\" class=\"sk-toggleable__label sk-toggleable__label-arrow\">LinearRegression</label><div class=\"sk-toggleable__content\"><pre>LinearRegression()</pre></div></div></div></div></div>"
            ]
          },
          "metadata": {},
          "execution_count": 21
        }
      ]
    },
    {
      "cell_type": "code",
      "source": [
        "y_pred = regressor.predict(X_test)"
      ],
      "metadata": {
        "id": "M9ALRddDW4fC"
      },
      "execution_count": null,
      "outputs": []
    },
    {
      "cell_type": "code",
      "execution_count": null,
      "metadata": {
        "colab": {
          "base_uri": "https://localhost:8080/"
        },
        "id": "w-eXuaczcWHP",
        "outputId": "8da93dd5-6c3f-415b-c774-b8b11d3312ee"
      },
      "outputs": [
        {
          "data": {
            "text/plain": [
              "array([23.6, 32.4, 13.6, 22.8, 16.1, 20. , 17.8, 14. , 19.6, 16.8, 21.5,\n",
              "       18.9,  7. , 21.2, 18.5, 29.8, 18.8, 10.2, 50. , 14.1, 25.2, 29.1,\n",
              "       12.7, 22.4, 14.2, 13.8, 20.3, 14.9, 21.7, 18.3, 23.1, 23.8, 15. ,\n",
              "       20.8, 19.1, 19.4, 34.7, 19.5, 24.4, 23.4, 19.7, 28.2, 50. , 17.4,\n",
              "       22.6, 15.1, 13.1, 24.2, 19.9, 24. , 18.9, 35.4, 15.2, 26.5, 43.5,\n",
              "       21.2, 18.4, 28.5, 23.9, 18.5, 25. , 35.4, 31.5, 20.2, 24.1, 20. ,\n",
              "       13.1, 24.8, 30.8, 12.7, 20. , 23.7, 10.8, 20.6, 20.8,  5. , 20.1,\n",
              "       48.5, 10.9,  7. , 20.9, 17.2, 20.9,  9.7, 19.4, 29. , 16.4, 25. ,\n",
              "       25. , 17.1, 23.2, 10.4, 19.6, 17.2, 27.5, 23. , 50. , 17.9,  9.6,\n",
              "       17.2, 22.5, 21.4, 12. , 19.9, 19.4, 13.4, 18.2, 24.6, 21.1, 24.7,\n",
              "        8.7, 27.5, 20.7, 36.2, 31.6, 11.7, 39.8, 13.9, 21.8, 23.7, 17.6,\n",
              "       24.4,  8.8, 19.2, 25.3, 20.4, 23.1, 37.9, 15.6, 45.4, 15.7, 22.6,\n",
              "       14.5, 18.7, 17.8, 16.1, 20.6, 31.6, 29.1, 15.6, 17.5, 22.5, 19.4,\n",
              "       19.3,  8.5, 20.6, 17. , 17.1, 14.5, 50. , 14.3, 12.6])"
            ]
          },
          "execution_count": 14,
          "metadata": {},
          "output_type": "execute_result"
        }
      ],
      "source": [
        "y_test"
      ]
    },
    {
      "cell_type": "code",
      "source": [
        "from sklearn.metrics import mean_squared_error\n",
        "rmse = (np.sqrt(mean_squared_error(y_test, y_pred)))\n",
        "print(rmse)"
      ],
      "metadata": {
        "colab": {
          "base_uri": "https://localhost:8080/"
        },
        "id": "5Zd75bG1W7rR",
        "outputId": "ea3884f2-23df-4360-e774-0e56be7e05b6"
      },
      "execution_count": null,
      "outputs": [
        {
          "output_type": "stream",
          "name": "stdout",
          "text": [
            "4.638689926172819\n"
          ]
        }
      ]
    },
    {
      "cell_type": "code",
      "source": [
        "from sklearn.metrics import r2_score\n",
        "r2 = r2_score(y_test, y_pred)\n",
        "print(r2)"
      ],
      "metadata": {
        "colab": {
          "base_uri": "https://localhost:8080/"
        },
        "id": "9psQa-QJW-ux",
        "outputId": "8e4ae15d-b422-4518-f217-77e79da5311e"
      },
      "execution_count": null,
      "outputs": [
        {
          "output_type": "stream",
          "name": "stdout",
          "text": [
            "0.7112260057484935\n"
          ]
        }
      ]
    },
    {
      "cell_type": "code",
      "source": [
        "from sklearn.preprocessing import StandardScaler\n",
        "sc = StandardScaler()\n",
        "X_train = sc.fit_transform(X_train)\n",
        "X_test = sc.transform(X_test)"
      ],
      "metadata": {
        "id": "Y6glwVg4XCYp"
      },
      "execution_count": null,
      "outputs": []
    },
    {
      "cell_type": "code",
      "source": [
        "import keras\n",
        "from keras.layers import Dense, Activation,Dropout\n",
        "from keras.models import Sequential\n",
        "model = Sequential()\n",
        "model.add(Dense(128,activation = 'relu',input_dim =13))\n",
        "model.add(Dense(64,activation = 'relu'))\n",
        "model.add(Dense(32,activation = 'relu'))\n",
        "model.add(Dense(16,activation = 'relu'))\n",
        "model.add(Dense(1))\n",
        "model.compile(optimizer = 'adam',loss ='mean_squared_error',metrics=['mae'])"
      ],
      "metadata": {
        "id": "Oxx0-wK8XGfz"
      },
      "execution_count": null,
      "outputs": []
    },
    {
      "cell_type": "code",
      "source": [
        "!pip install ann_visualizer\n",
        "!pip install graphviz"
      ],
      "metadata": {
        "colab": {
          "base_uri": "https://localhost:8080/"
        },
        "id": "y9b2ooQQXWvu",
        "outputId": "571e0ddd-77b5-4c0d-986c-fd07d93d812c"
      },
      "execution_count": null,
      "outputs": [
        {
          "output_type": "stream",
          "name": "stdout",
          "text": [
            "Looking in indexes: https://pypi.org/simple, https://us-python.pkg.dev/colab-wheels/public/simple/\n",
            "Collecting ann_visualizer\n",
            "  Downloading ann_visualizer-2.5.tar.gz (4.7 kB)\n",
            "  Preparing metadata (setup.py) ... \u001b[?25l\u001b[?25hdone\n",
            "Building wheels for collected packages: ann_visualizer\n",
            "  Building wheel for ann_visualizer (setup.py) ... \u001b[?25l\u001b[?25hdone\n",
            "  Created wheel for ann_visualizer: filename=ann_visualizer-2.5-py3-none-any.whl size=4179 sha256=cfbd0279f01e85f2a93f9f3a3bef97e21629fbd91cec316efb0a003f40840403\n",
            "  Stored in directory: /root/.cache/pip/wheels/2d/d8/86/67f4a249969eaaa31c6df569f4ebfa84634fae3af2c627107b\n",
            "Successfully built ann_visualizer\n",
            "Installing collected packages: ann_visualizer\n",
            "Successfully installed ann_visualizer-2.5\n",
            "Looking in indexes: https://pypi.org/simple, https://us-python.pkg.dev/colab-wheels/public/simple/\n",
            "Requirement already satisfied: graphviz in /usr/local/lib/python3.9/dist-packages (0.20.1)\n"
          ]
        }
      ]
    },
    {
      "cell_type": "code",
      "source": [
        "from ann_visualizer.visualize import ann_viz\n",
        "#Build your model here\n",
        "ann_viz(model, title=\"DEMO ANN\")\n",
        "history = model.fit(X_train, y_train, epochs=100, validation_split=0.05)"
      ],
      "metadata": {
        "colab": {
          "base_uri": "https://localhost:8080/"
        },
        "id": "Q-cb5L5JXUN5",
        "outputId": "27ec88ea-e07b-4c66-b852-1e4d052f7e18"
      },
      "execution_count": null,
      "outputs": [
        {
          "output_type": "stream",
          "name": "stdout",
          "text": [
            "Epoch 1/100\n",
            "11/11 [==============================] - 3s 59ms/step - loss: 591.3849 - mae: 22.3983 - val_loss: 501.8419 - val_mae: 20.7603\n",
            "Epoch 2/100\n",
            "11/11 [==============================] - 0s 21ms/step - loss: 512.4872 - mae: 20.5342 - val_loss: 388.4835 - val_mae: 17.9413\n",
            "Epoch 3/100\n",
            "11/11 [==============================] - 0s 13ms/step - loss: 359.4766 - mae: 16.4796 - val_loss: 201.1416 - val_mae: 11.8228\n",
            "Epoch 4/100\n",
            "11/11 [==============================] - 0s 13ms/step - loss: 158.6219 - mae: 10.1947 - val_loss: 71.5404 - val_mae: 5.4261\n",
            "Epoch 5/100\n",
            "11/11 [==============================] - 0s 11ms/step - loss: 94.4606 - mae: 7.6554 - val_loss: 64.6987 - val_mae: 5.0287\n",
            "Epoch 6/100\n",
            "11/11 [==============================] - 0s 15ms/step - loss: 51.9191 - mae: 5.6040 - val_loss: 59.3524 - val_mae: 4.8179\n",
            "Epoch 7/100\n",
            "11/11 [==============================] - 0s 7ms/step - loss: 37.0154 - mae: 4.5835 - val_loss: 55.2201 - val_mae: 4.4310\n",
            "Epoch 8/100\n",
            "11/11 [==============================] - 0s 13ms/step - loss: 27.5038 - mae: 3.8673 - val_loss: 55.2621 - val_mae: 4.5987\n",
            "Epoch 9/100\n",
            "11/11 [==============================] - 0s 17ms/step - loss: 23.0617 - mae: 3.5373 - val_loss: 57.0561 - val_mae: 4.6594\n",
            "Epoch 10/100\n",
            "11/11 [==============================] - 0s 14ms/step - loss: 20.5794 - mae: 3.2788 - val_loss: 54.2963 - val_mae: 4.5070\n",
            "Epoch 11/100\n",
            "11/11 [==============================] - 0s 15ms/step - loss: 18.7845 - mae: 3.1762 - val_loss: 53.1308 - val_mae: 4.5470\n",
            "Epoch 12/100\n",
            "11/11 [==============================] - 0s 12ms/step - loss: 17.3571 - mae: 3.0591 - val_loss: 52.5559 - val_mae: 4.5664\n",
            "Epoch 13/100\n",
            "11/11 [==============================] - 0s 14ms/step - loss: 16.3914 - mae: 2.9383 - val_loss: 51.4676 - val_mae: 4.5054\n",
            "Epoch 14/100\n",
            "11/11 [==============================] - 0s 11ms/step - loss: 15.5487 - mae: 2.8941 - val_loss: 50.8233 - val_mae: 4.5178\n",
            "Epoch 15/100\n",
            "11/11 [==============================] - 0s 10ms/step - loss: 14.8556 - mae: 2.8318 - val_loss: 49.2266 - val_mae: 4.4521\n",
            "Epoch 16/100\n",
            "11/11 [==============================] - 0s 17ms/step - loss: 14.5272 - mae: 2.7536 - val_loss: 49.8574 - val_mae: 4.4680\n",
            "Epoch 17/100\n",
            "11/11 [==============================] - 0s 13ms/step - loss: 13.6711 - mae: 2.7477 - val_loss: 46.4796 - val_mae: 4.3379\n",
            "Epoch 18/100\n",
            "11/11 [==============================] - 0s 10ms/step - loss: 13.4712 - mae: 2.6969 - val_loss: 46.3854 - val_mae: 4.3613\n",
            "Epoch 19/100\n",
            "11/11 [==============================] - 0s 18ms/step - loss: 12.7651 - mae: 2.6444 - val_loss: 45.4602 - val_mae: 4.3230\n",
            "Epoch 20/100\n",
            "11/11 [==============================] - 0s 9ms/step - loss: 12.7262 - mae: 2.6680 - val_loss: 45.4775 - val_mae: 4.2769\n",
            "Epoch 21/100\n",
            "11/11 [==============================] - 0s 10ms/step - loss: 12.1807 - mae: 2.5801 - val_loss: 45.0944 - val_mae: 4.3561\n",
            "Epoch 22/100\n",
            "11/11 [==============================] - 0s 14ms/step - loss: 11.8966 - mae: 2.5830 - val_loss: 44.2311 - val_mae: 4.2441\n",
            "Epoch 23/100\n",
            "11/11 [==============================] - 0s 17ms/step - loss: 11.5962 - mae: 2.5241 - val_loss: 43.2314 - val_mae: 4.2021\n",
            "Epoch 24/100\n",
            "11/11 [==============================] - 0s 9ms/step - loss: 11.3082 - mae: 2.5076 - val_loss: 42.5322 - val_mae: 4.1509\n",
            "Epoch 25/100\n",
            "11/11 [==============================] - 0s 8ms/step - loss: 11.0656 - mae: 2.4807 - val_loss: 41.5458 - val_mae: 4.1162\n",
            "Epoch 26/100\n",
            "11/11 [==============================] - 0s 9ms/step - loss: 10.9598 - mae: 2.4446 - val_loss: 44.5864 - val_mae: 4.2769\n",
            "Epoch 27/100\n",
            "11/11 [==============================] - 0s 10ms/step - loss: 10.4921 - mae: 2.4086 - val_loss: 42.5557 - val_mae: 4.1809\n",
            "Epoch 28/100\n",
            "11/11 [==============================] - 0s 10ms/step - loss: 10.3619 - mae: 2.4183 - val_loss: 39.2552 - val_mae: 3.9894\n",
            "Epoch 29/100\n",
            "11/11 [==============================] - 0s 10ms/step - loss: 10.1037 - mae: 2.3654 - val_loss: 40.2840 - val_mae: 4.1104\n",
            "Epoch 30/100\n",
            "11/11 [==============================] - 0s 9ms/step - loss: 9.9764 - mae: 2.3483 - val_loss: 39.9556 - val_mae: 4.0374\n",
            "Epoch 31/100\n",
            "11/11 [==============================] - 0s 16ms/step - loss: 9.8490 - mae: 2.3625 - val_loss: 38.6962 - val_mae: 3.9341\n",
            "Epoch 32/100\n",
            "11/11 [==============================] - 0s 23ms/step - loss: 9.4845 - mae: 2.3064 - val_loss: 39.4701 - val_mae: 4.0681\n",
            "Epoch 33/100\n",
            "11/11 [==============================] - 0s 10ms/step - loss: 9.5128 - mae: 2.3119 - val_loss: 38.9698 - val_mae: 4.0117\n",
            "Epoch 34/100\n",
            "11/11 [==============================] - 0s 23ms/step - loss: 9.6214 - mae: 2.3280 - val_loss: 37.1235 - val_mae: 3.7613\n",
            "Epoch 35/100\n",
            "11/11 [==============================] - 0s 21ms/step - loss: 9.0179 - mae: 2.2424 - val_loss: 39.1865 - val_mae: 4.0172\n",
            "Epoch 36/100\n",
            "11/11 [==============================] - 0s 23ms/step - loss: 9.1492 - mae: 2.2808 - val_loss: 37.6418 - val_mae: 3.8860\n",
            "Epoch 37/100\n",
            "11/11 [==============================] - 0s 28ms/step - loss: 8.8481 - mae: 2.2125 - val_loss: 35.5461 - val_mae: 3.8156\n",
            "Epoch 38/100\n",
            "11/11 [==============================] - 0s 29ms/step - loss: 8.7811 - mae: 2.1973 - val_loss: 38.6676 - val_mae: 3.9692\n",
            "Epoch 39/100\n",
            "11/11 [==============================] - 0s 23ms/step - loss: 8.4110 - mae: 2.1883 - val_loss: 34.4616 - val_mae: 3.7105\n",
            "Epoch 40/100\n",
            "11/11 [==============================] - 0s 19ms/step - loss: 8.2020 - mae: 2.1634 - val_loss: 36.4166 - val_mae: 3.8887\n",
            "Epoch 41/100\n",
            "11/11 [==============================] - 0s 24ms/step - loss: 7.9109 - mae: 2.1203 - val_loss: 33.9681 - val_mae: 3.7352\n",
            "Epoch 42/100\n",
            "11/11 [==============================] - 0s 23ms/step - loss: 7.9280 - mae: 2.1291 - val_loss: 33.8788 - val_mae: 3.7676\n",
            "Epoch 43/100\n",
            "11/11 [==============================] - 0s 19ms/step - loss: 7.5750 - mae: 2.0780 - val_loss: 33.1476 - val_mae: 3.6648\n",
            "Epoch 44/100\n",
            "11/11 [==============================] - 0s 28ms/step - loss: 7.5665 - mae: 2.0833 - val_loss: 35.0855 - val_mae: 3.7856\n",
            "Epoch 45/100\n",
            "11/11 [==============================] - 0s 22ms/step - loss: 7.4718 - mae: 2.0782 - val_loss: 32.8645 - val_mae: 3.6560\n",
            "Epoch 46/100\n",
            "11/11 [==============================] - 0s 20ms/step - loss: 7.2914 - mae: 2.0564 - val_loss: 33.6143 - val_mae: 3.7592\n",
            "Epoch 47/100\n",
            "11/11 [==============================] - 0s 19ms/step - loss: 7.0884 - mae: 2.0347 - val_loss: 32.0757 - val_mae: 3.5861\n",
            "Epoch 48/100\n",
            "11/11 [==============================] - 0s 22ms/step - loss: 6.8403 - mae: 1.9954 - val_loss: 30.9245 - val_mae: 3.5744\n",
            "Epoch 49/100\n",
            "11/11 [==============================] - 0s 23ms/step - loss: 6.6198 - mae: 1.9791 - val_loss: 30.5141 - val_mae: 3.5173\n",
            "Epoch 50/100\n",
            "11/11 [==============================] - 0s 23ms/step - loss: 6.5729 - mae: 1.9716 - val_loss: 32.3342 - val_mae: 3.6332\n",
            "Epoch 51/100\n",
            "11/11 [==============================] - 0s 16ms/step - loss: 6.3949 - mae: 1.9451 - val_loss: 30.2532 - val_mae: 3.4870\n",
            "Epoch 52/100\n",
            "11/11 [==============================] - 0s 17ms/step - loss: 6.2475 - mae: 1.9182 - val_loss: 31.1566 - val_mae: 3.6147\n",
            "Epoch 53/100\n",
            "11/11 [==============================] - 0s 17ms/step - loss: 6.1305 - mae: 1.8903 - val_loss: 29.7965 - val_mae: 3.5146\n",
            "Epoch 54/100\n",
            "11/11 [==============================] - 0s 20ms/step - loss: 6.1102 - mae: 1.9132 - val_loss: 30.3264 - val_mae: 3.5929\n",
            "Epoch 55/100\n",
            "11/11 [==============================] - 0s 13ms/step - loss: 6.0609 - mae: 1.8830 - val_loss: 29.3056 - val_mae: 3.4718\n",
            "Epoch 56/100\n",
            "11/11 [==============================] - 0s 9ms/step - loss: 5.8774 - mae: 1.8653 - val_loss: 28.9572 - val_mae: 3.4602\n",
            "Epoch 57/100\n",
            "11/11 [==============================] - 0s 9ms/step - loss: 5.7148 - mae: 1.8419 - val_loss: 28.4126 - val_mae: 3.4663\n",
            "Epoch 58/100\n",
            "11/11 [==============================] - 0s 9ms/step - loss: 5.5973 - mae: 1.8256 - val_loss: 27.2650 - val_mae: 3.5078\n",
            "Epoch 59/100\n",
            "11/11 [==============================] - 0s 10ms/step - loss: 5.4709 - mae: 1.7934 - val_loss: 27.7751 - val_mae: 3.4379\n",
            "Epoch 60/100\n",
            "11/11 [==============================] - 0s 10ms/step - loss: 5.2673 - mae: 1.7847 - val_loss: 27.4587 - val_mae: 3.4894\n",
            "Epoch 61/100\n",
            "11/11 [==============================] - 0s 14ms/step - loss: 5.2121 - mae: 1.7623 - val_loss: 25.7191 - val_mae: 3.3292\n",
            "Epoch 62/100\n",
            "11/11 [==============================] - 0s 12ms/step - loss: 5.2363 - mae: 1.7900 - val_loss: 26.7333 - val_mae: 3.4663\n",
            "Epoch 63/100\n",
            "11/11 [==============================] - 0s 10ms/step - loss: 5.1005 - mae: 1.7441 - val_loss: 25.8180 - val_mae: 3.3504\n",
            "Epoch 64/100\n",
            "11/11 [==============================] - 0s 19ms/step - loss: 5.1160 - mae: 1.7468 - val_loss: 26.7794 - val_mae: 3.3825\n",
            "Epoch 65/100\n",
            "11/11 [==============================] - 0s 20ms/step - loss: 5.1962 - mae: 1.7597 - val_loss: 25.7986 - val_mae: 3.4680\n",
            "Epoch 66/100\n",
            "11/11 [==============================] - 0s 19ms/step - loss: 5.1796 - mae: 1.7791 - val_loss: 24.9853 - val_mae: 3.3198\n",
            "Epoch 67/100\n",
            "11/11 [==============================] - 0s 19ms/step - loss: 5.2920 - mae: 1.7719 - val_loss: 24.0789 - val_mae: 3.2522\n",
            "Epoch 68/100\n",
            "11/11 [==============================] - 0s 13ms/step - loss: 5.0338 - mae: 1.7172 - val_loss: 23.5487 - val_mae: 3.2253\n",
            "Epoch 69/100\n",
            "11/11 [==============================] - 0s 9ms/step - loss: 4.7440 - mae: 1.7078 - val_loss: 25.0758 - val_mae: 3.3715\n",
            "Epoch 70/100\n",
            "11/11 [==============================] - 0s 14ms/step - loss: 4.6993 - mae: 1.6638 - val_loss: 23.4488 - val_mae: 3.2266\n",
            "Epoch 71/100\n",
            "11/11 [==============================] - 0s 17ms/step - loss: 4.4957 - mae: 1.6702 - val_loss: 23.8578 - val_mae: 3.2910\n",
            "Epoch 72/100\n",
            "11/11 [==============================] - 0s 18ms/step - loss: 4.2779 - mae: 1.6008 - val_loss: 23.7879 - val_mae: 3.2109\n",
            "Epoch 73/100\n",
            "11/11 [==============================] - 0s 9ms/step - loss: 4.3785 - mae: 1.6259 - val_loss: 22.8553 - val_mae: 3.2704\n",
            "Epoch 74/100\n",
            "11/11 [==============================] - 0s 14ms/step - loss: 4.3091 - mae: 1.6290 - val_loss: 23.9146 - val_mae: 3.2244\n",
            "Epoch 75/100\n",
            "11/11 [==============================] - 0s 9ms/step - loss: 4.3677 - mae: 1.6164 - val_loss: 23.7520 - val_mae: 3.2497\n",
            "Epoch 76/100\n",
            "11/11 [==============================] - 0s 10ms/step - loss: 4.4158 - mae: 1.6242 - val_loss: 22.2570 - val_mae: 3.1932\n",
            "Epoch 77/100\n",
            "11/11 [==============================] - 0s 8ms/step - loss: 4.0761 - mae: 1.5635 - val_loss: 22.6941 - val_mae: 3.2056\n",
            "Epoch 78/100\n",
            "11/11 [==============================] - 0s 9ms/step - loss: 4.0817 - mae: 1.5661 - val_loss: 22.4923 - val_mae: 3.1935\n",
            "Epoch 79/100\n",
            "11/11 [==============================] - 0s 9ms/step - loss: 4.0415 - mae: 1.5440 - val_loss: 21.4996 - val_mae: 3.0930\n",
            "Epoch 80/100\n",
            "11/11 [==============================] - 0s 11ms/step - loss: 4.0643 - mae: 1.5647 - val_loss: 22.0512 - val_mae: 3.1331\n",
            "Epoch 81/100\n",
            "11/11 [==============================] - 0s 14ms/step - loss: 3.8606 - mae: 1.5094 - val_loss: 21.4998 - val_mae: 3.1015\n",
            "Epoch 82/100\n",
            "11/11 [==============================] - 0s 31ms/step - loss: 3.7766 - mae: 1.5065 - val_loss: 20.7488 - val_mae: 3.0890\n",
            "Epoch 83/100\n",
            "11/11 [==============================] - 0s 18ms/step - loss: 3.7617 - mae: 1.4911 - val_loss: 23.5081 - val_mae: 3.2402\n",
            "Epoch 84/100\n",
            "11/11 [==============================] - 0s 16ms/step - loss: 3.8149 - mae: 1.5207 - val_loss: 18.8590 - val_mae: 2.9198\n",
            "Epoch 85/100\n",
            "11/11 [==============================] - 0s 15ms/step - loss: 3.7037 - mae: 1.4719 - val_loss: 22.9896 - val_mae: 3.1943\n",
            "Epoch 86/100\n",
            "11/11 [==============================] - 0s 12ms/step - loss: 3.7926 - mae: 1.5003 - val_loss: 20.4932 - val_mae: 3.0452\n",
            "Epoch 87/100\n",
            "11/11 [==============================] - 0s 9ms/step - loss: 3.6193 - mae: 1.4571 - val_loss: 20.1838 - val_mae: 3.0676\n",
            "Epoch 88/100\n",
            "11/11 [==============================] - 0s 9ms/step - loss: 3.4754 - mae: 1.4278 - val_loss: 20.6033 - val_mae: 3.0348\n",
            "Epoch 89/100\n",
            "11/11 [==============================] - 0s 15ms/step - loss: 3.4655 - mae: 1.4405 - val_loss: 21.2962 - val_mae: 3.1119\n",
            "Epoch 90/100\n",
            "11/11 [==============================] - 0s 9ms/step - loss: 3.4509 - mae: 1.4197 - val_loss: 19.3486 - val_mae: 2.9233\n",
            "Epoch 91/100\n",
            "11/11 [==============================] - 0s 17ms/step - loss: 3.4592 - mae: 1.4206 - val_loss: 20.8045 - val_mae: 3.0495\n",
            "Epoch 92/100\n",
            "11/11 [==============================] - 0s 14ms/step - loss: 3.5926 - mae: 1.4366 - val_loss: 20.4270 - val_mae: 3.0434\n",
            "Epoch 93/100\n",
            "11/11 [==============================] - 0s 9ms/step - loss: 3.5286 - mae: 1.4067 - val_loss: 19.9598 - val_mae: 2.9588\n",
            "Epoch 94/100\n",
            "11/11 [==============================] - 0s 10ms/step - loss: 3.5330 - mae: 1.4194 - val_loss: 21.2386 - val_mae: 3.0400\n",
            "Epoch 95/100\n",
            "11/11 [==============================] - 0s 28ms/step - loss: 3.5954 - mae: 1.4616 - val_loss: 19.3597 - val_mae: 2.9435\n",
            "Epoch 96/100\n",
            "11/11 [==============================] - 0s 25ms/step - loss: 3.2884 - mae: 1.3539 - val_loss: 19.6669 - val_mae: 2.9862\n",
            "Epoch 97/100\n",
            "11/11 [==============================] - 0s 30ms/step - loss: 3.1854 - mae: 1.3651 - val_loss: 20.2673 - val_mae: 3.0151\n",
            "Epoch 98/100\n",
            "11/11 [==============================] - 0s 14ms/step - loss: 3.3214 - mae: 1.3951 - val_loss: 17.5350 - val_mae: 2.8240\n",
            "Epoch 99/100\n",
            "11/11 [==============================] - 0s 17ms/step - loss: 3.2849 - mae: 1.3719 - val_loss: 20.7009 - val_mae: 3.0173\n",
            "Epoch 100/100\n",
            "11/11 [==============================] - 0s 15ms/step - loss: 3.2310 - mae: 1.3601 - val_loss: 16.6897 - val_mae: 2.7157\n"
          ]
        }
      ]
    },
    {
      "cell_type": "code",
      "source": [
        "from plotly.subplots import make_subplots\n",
        "import plotly.graph_objects as go\n",
        "fig = go.Figure()\n",
        "fig.add_trace(go.Scattergl(y=history.history['loss'],name='Train'))\n",
        "\n",
        "fig.add_trace(go.Scattergl(y=history.history['val_loss'],\n",
        "\n",
        "name='Valid'))\n",
        "\n",
        "fig.update_layout(height=500, width=700,\n",
        "xaxis_title='Epoch',\n",
        "yaxis_title='Loss')\n",
        "\n",
        "fig.show()"
      ],
      "metadata": {
        "colab": {
          "base_uri": "https://localhost:8080/",
          "height": 517
        },
        "id": "qPONaDYOXooq",
        "outputId": "25ed1371-37a6-4f51-aa7c-2a3bb087ccf4"
      },
      "execution_count": null,
      "outputs": [
        {
          "output_type": "display_data",
          "data": {
            "text/html": [
              "<html>\n",
              "<head><meta charset=\"utf-8\" /></head>\n",
              "<body>\n",
              "    <div>            <script src=\"https://cdnjs.cloudflare.com/ajax/libs/mathjax/2.7.5/MathJax.js?config=TeX-AMS-MML_SVG\"></script><script type=\"text/javascript\">if (window.MathJax && window.MathJax.Hub && window.MathJax.Hub.Config) {window.MathJax.Hub.Config({SVG: {font: \"STIX-Web\"}});}</script>                <script type=\"text/javascript\">window.PlotlyConfig = {MathJaxConfig: 'local'};</script>\n",
              "        <script src=\"https://cdn.plot.ly/plotly-2.18.2.min.js\"></script>                <div id=\"d939fd45-96d8-4c79-88a9-8d5ab2d91fd6\" class=\"plotly-graph-div\" style=\"height:500px; width:700px;\"></div>            <script type=\"text/javascript\">                                    window.PLOTLYENV=window.PLOTLYENV || {};                                    if (document.getElementById(\"d939fd45-96d8-4c79-88a9-8d5ab2d91fd6\")) {                    Plotly.newPlot(                        \"d939fd45-96d8-4c79-88a9-8d5ab2d91fd6\",                        [{\"name\":\"Train\",\"y\":[591.3849487304688,512.4872436523438,359.47662353515625,158.6219482421875,94.4605941772461,51.91913604736328,37.0153694152832,27.50383949279785,23.061725616455078,20.57940673828125,18.784473419189453,17.357051849365234,16.391422271728516,15.548662185668945,14.855596542358398,14.527227401733398,13.6710786819458,13.471217155456543,12.765117645263672,12.726188659667969,12.18065071105957,11.896625518798828,11.596247673034668,11.308196067810059,11.065638542175293,10.959809303283691,10.492090225219727,10.361860275268555,10.103747367858887,9.97635269165039,9.84898853302002,9.484543800354004,9.512803077697754,9.621362686157227,9.017876625061035,9.1492338180542,8.848128318786621,8.781136512756348,8.410984992980957,8.20201301574707,7.910933017730713,7.92795467376709,7.575031757354736,7.566494941711426,7.471764087677002,7.291403770446777,7.0883636474609375,6.840315818786621,6.6197829246521,6.572850704193115,6.394944190979004,6.247490882873535,6.130487442016602,6.110172748565674,6.060886383056641,5.8773674964904785,5.714827537536621,5.597311019897461,5.470874309539795,5.267312526702881,5.212083339691162,5.236344337463379,5.100459098815918,5.115975379943848,5.196236610412598,5.179562568664551,5.29201602935791,5.033758640289307,4.744025230407715,4.699250221252441,4.495687961578369,4.2779083251953125,4.378496170043945,4.309075355529785,4.367694854736328,4.415807723999023,4.07610559463501,4.081700801849365,4.041472434997559,4.064280986785889,3.8605644702911377,3.7766385078430176,3.7616868019104004,3.81489634513855,3.703679084777832,3.7926316261291504,3.6193318367004395,3.475398063659668,3.465519428253174,3.450864791870117,3.459238052368164,3.5925772190093994,3.52862286567688,3.53303599357605,3.5954055786132812,3.288403034210205,3.185441493988037,3.3213958740234375,3.284897565841675,3.230978012084961],\"type\":\"scattergl\"},{\"name\":\"Valid\",\"y\":[501.84185791015625,388.4835205078125,201.14161682128906,71.54043579101562,64.69871520996094,59.35243225097656,55.220096588134766,55.262123107910156,57.05608367919922,54.2962532043457,53.13079071044922,52.55592727661133,51.467567443847656,50.82327651977539,49.226627349853516,49.857421875,46.47956848144531,46.385440826416016,45.46015930175781,45.477474212646484,45.09440612792969,44.23111343383789,43.231407165527344,42.53224563598633,41.54581069946289,44.58641052246094,42.555702209472656,39.25523376464844,40.28401184082031,39.955604553222656,38.69618225097656,39.47013473510742,38.96976089477539,37.12347412109375,39.18646240234375,37.64179992675781,35.54608917236328,38.66755676269531,34.46161651611328,36.41657638549805,33.96808624267578,33.878807067871094,33.147586822509766,35.08551788330078,32.86452865600586,33.614295959472656,32.07565689086914,30.924522399902344,30.51412010192871,32.334171295166016,30.25320053100586,31.156572341918945,29.79652976989746,30.326416015625,29.30561065673828,28.957197189331055,28.41260528564453,27.264997482299805,27.775121688842773,27.458744049072266,25.719091415405273,26.73325538635254,25.818002700805664,26.779436111450195,25.79863739013672,24.985313415527344,24.07891082763672,23.548696517944336,25.075849533081055,23.448822021484375,23.857797622680664,23.787940979003906,22.85527229309082,23.914587020874023,23.751964569091797,22.25701904296875,22.694135665893555,22.492319107055664,21.499563217163086,22.05122184753418,21.499797821044922,20.74876594543457,23.508121490478516,18.859010696411133,22.989606857299805,20.49323272705078,20.183753967285156,20.603328704833984,21.296194076538086,19.34857940673828,20.80452537536621,20.426992416381836,19.959794998168945,21.238582611083984,19.359661102294922,19.66687774658203,20.26728057861328,17.534996032714844,20.700891494750977,16.689697265625],\"type\":\"scattergl\"}],                        {\"template\":{\"data\":{\"histogram2dcontour\":[{\"type\":\"histogram2dcontour\",\"colorbar\":{\"outlinewidth\":0,\"ticks\":\"\"},\"colorscale\":[[0.0,\"#0d0887\"],[0.1111111111111111,\"#46039f\"],[0.2222222222222222,\"#7201a8\"],[0.3333333333333333,\"#9c179e\"],[0.4444444444444444,\"#bd3786\"],[0.5555555555555556,\"#d8576b\"],[0.6666666666666666,\"#ed7953\"],[0.7777777777777778,\"#fb9f3a\"],[0.8888888888888888,\"#fdca26\"],[1.0,\"#f0f921\"]]}],\"choropleth\":[{\"type\":\"choropleth\",\"colorbar\":{\"outlinewidth\":0,\"ticks\":\"\"}}],\"histogram2d\":[{\"type\":\"histogram2d\",\"colorbar\":{\"outlinewidth\":0,\"ticks\":\"\"},\"colorscale\":[[0.0,\"#0d0887\"],[0.1111111111111111,\"#46039f\"],[0.2222222222222222,\"#7201a8\"],[0.3333333333333333,\"#9c179e\"],[0.4444444444444444,\"#bd3786\"],[0.5555555555555556,\"#d8576b\"],[0.6666666666666666,\"#ed7953\"],[0.7777777777777778,\"#fb9f3a\"],[0.8888888888888888,\"#fdca26\"],[1.0,\"#f0f921\"]]}],\"heatmap\":[{\"type\":\"heatmap\",\"colorbar\":{\"outlinewidth\":0,\"ticks\":\"\"},\"colorscale\":[[0.0,\"#0d0887\"],[0.1111111111111111,\"#46039f\"],[0.2222222222222222,\"#7201a8\"],[0.3333333333333333,\"#9c179e\"],[0.4444444444444444,\"#bd3786\"],[0.5555555555555556,\"#d8576b\"],[0.6666666666666666,\"#ed7953\"],[0.7777777777777778,\"#fb9f3a\"],[0.8888888888888888,\"#fdca26\"],[1.0,\"#f0f921\"]]}],\"heatmapgl\":[{\"type\":\"heatmapgl\",\"colorbar\":{\"outlinewidth\":0,\"ticks\":\"\"},\"colorscale\":[[0.0,\"#0d0887\"],[0.1111111111111111,\"#46039f\"],[0.2222222222222222,\"#7201a8\"],[0.3333333333333333,\"#9c179e\"],[0.4444444444444444,\"#bd3786\"],[0.5555555555555556,\"#d8576b\"],[0.6666666666666666,\"#ed7953\"],[0.7777777777777778,\"#fb9f3a\"],[0.8888888888888888,\"#fdca26\"],[1.0,\"#f0f921\"]]}],\"contourcarpet\":[{\"type\":\"contourcarpet\",\"colorbar\":{\"outlinewidth\":0,\"ticks\":\"\"}}],\"contour\":[{\"type\":\"contour\",\"colorbar\":{\"outlinewidth\":0,\"ticks\":\"\"},\"colorscale\":[[0.0,\"#0d0887\"],[0.1111111111111111,\"#46039f\"],[0.2222222222222222,\"#7201a8\"],[0.3333333333333333,\"#9c179e\"],[0.4444444444444444,\"#bd3786\"],[0.5555555555555556,\"#d8576b\"],[0.6666666666666666,\"#ed7953\"],[0.7777777777777778,\"#fb9f3a\"],[0.8888888888888888,\"#fdca26\"],[1.0,\"#f0f921\"]]}],\"surface\":[{\"type\":\"surface\",\"colorbar\":{\"outlinewidth\":0,\"ticks\":\"\"},\"colorscale\":[[0.0,\"#0d0887\"],[0.1111111111111111,\"#46039f\"],[0.2222222222222222,\"#7201a8\"],[0.3333333333333333,\"#9c179e\"],[0.4444444444444444,\"#bd3786\"],[0.5555555555555556,\"#d8576b\"],[0.6666666666666666,\"#ed7953\"],[0.7777777777777778,\"#fb9f3a\"],[0.8888888888888888,\"#fdca26\"],[1.0,\"#f0f921\"]]}],\"mesh3d\":[{\"type\":\"mesh3d\",\"colorbar\":{\"outlinewidth\":0,\"ticks\":\"\"}}],\"scatter\":[{\"fillpattern\":{\"fillmode\":\"overlay\",\"size\":10,\"solidity\":0.2},\"type\":\"scatter\"}],\"parcoords\":[{\"type\":\"parcoords\",\"line\":{\"colorbar\":{\"outlinewidth\":0,\"ticks\":\"\"}}}],\"scatterpolargl\":[{\"type\":\"scatterpolargl\",\"marker\":{\"colorbar\":{\"outlinewidth\":0,\"ticks\":\"\"}}}],\"bar\":[{\"error_x\":{\"color\":\"#2a3f5f\"},\"error_y\":{\"color\":\"#2a3f5f\"},\"marker\":{\"line\":{\"color\":\"#E5ECF6\",\"width\":0.5},\"pattern\":{\"fillmode\":\"overlay\",\"size\":10,\"solidity\":0.2}},\"type\":\"bar\"}],\"scattergeo\":[{\"type\":\"scattergeo\",\"marker\":{\"colorbar\":{\"outlinewidth\":0,\"ticks\":\"\"}}}],\"scatterpolar\":[{\"type\":\"scatterpolar\",\"marker\":{\"colorbar\":{\"outlinewidth\":0,\"ticks\":\"\"}}}],\"histogram\":[{\"marker\":{\"pattern\":{\"fillmode\":\"overlay\",\"size\":10,\"solidity\":0.2}},\"type\":\"histogram\"}],\"scattergl\":[{\"type\":\"scattergl\",\"marker\":{\"colorbar\":{\"outlinewidth\":0,\"ticks\":\"\"}}}],\"scatter3d\":[{\"type\":\"scatter3d\",\"line\":{\"colorbar\":{\"outlinewidth\":0,\"ticks\":\"\"}},\"marker\":{\"colorbar\":{\"outlinewidth\":0,\"ticks\":\"\"}}}],\"scattermapbox\":[{\"type\":\"scattermapbox\",\"marker\":{\"colorbar\":{\"outlinewidth\":0,\"ticks\":\"\"}}}],\"scatterternary\":[{\"type\":\"scatterternary\",\"marker\":{\"colorbar\":{\"outlinewidth\":0,\"ticks\":\"\"}}}],\"scattercarpet\":[{\"type\":\"scattercarpet\",\"marker\":{\"colorbar\":{\"outlinewidth\":0,\"ticks\":\"\"}}}],\"carpet\":[{\"aaxis\":{\"endlinecolor\":\"#2a3f5f\",\"gridcolor\":\"white\",\"linecolor\":\"white\",\"minorgridcolor\":\"white\",\"startlinecolor\":\"#2a3f5f\"},\"baxis\":{\"endlinecolor\":\"#2a3f5f\",\"gridcolor\":\"white\",\"linecolor\":\"white\",\"minorgridcolor\":\"white\",\"startlinecolor\":\"#2a3f5f\"},\"type\":\"carpet\"}],\"table\":[{\"cells\":{\"fill\":{\"color\":\"#EBF0F8\"},\"line\":{\"color\":\"white\"}},\"header\":{\"fill\":{\"color\":\"#C8D4E3\"},\"line\":{\"color\":\"white\"}},\"type\":\"table\"}],\"barpolar\":[{\"marker\":{\"line\":{\"color\":\"#E5ECF6\",\"width\":0.5},\"pattern\":{\"fillmode\":\"overlay\",\"size\":10,\"solidity\":0.2}},\"type\":\"barpolar\"}],\"pie\":[{\"automargin\":true,\"type\":\"pie\"}]},\"layout\":{\"autotypenumbers\":\"strict\",\"colorway\":[\"#636efa\",\"#EF553B\",\"#00cc96\",\"#ab63fa\",\"#FFA15A\",\"#19d3f3\",\"#FF6692\",\"#B6E880\",\"#FF97FF\",\"#FECB52\"],\"font\":{\"color\":\"#2a3f5f\"},\"hovermode\":\"closest\",\"hoverlabel\":{\"align\":\"left\"},\"paper_bgcolor\":\"white\",\"plot_bgcolor\":\"#E5ECF6\",\"polar\":{\"bgcolor\":\"#E5ECF6\",\"angularaxis\":{\"gridcolor\":\"white\",\"linecolor\":\"white\",\"ticks\":\"\"},\"radialaxis\":{\"gridcolor\":\"white\",\"linecolor\":\"white\",\"ticks\":\"\"}},\"ternary\":{\"bgcolor\":\"#E5ECF6\",\"aaxis\":{\"gridcolor\":\"white\",\"linecolor\":\"white\",\"ticks\":\"\"},\"baxis\":{\"gridcolor\":\"white\",\"linecolor\":\"white\",\"ticks\":\"\"},\"caxis\":{\"gridcolor\":\"white\",\"linecolor\":\"white\",\"ticks\":\"\"}},\"coloraxis\":{\"colorbar\":{\"outlinewidth\":0,\"ticks\":\"\"}},\"colorscale\":{\"sequential\":[[0.0,\"#0d0887\"],[0.1111111111111111,\"#46039f\"],[0.2222222222222222,\"#7201a8\"],[0.3333333333333333,\"#9c179e\"],[0.4444444444444444,\"#bd3786\"],[0.5555555555555556,\"#d8576b\"],[0.6666666666666666,\"#ed7953\"],[0.7777777777777778,\"#fb9f3a\"],[0.8888888888888888,\"#fdca26\"],[1.0,\"#f0f921\"]],\"sequentialminus\":[[0.0,\"#0d0887\"],[0.1111111111111111,\"#46039f\"],[0.2222222222222222,\"#7201a8\"],[0.3333333333333333,\"#9c179e\"],[0.4444444444444444,\"#bd3786\"],[0.5555555555555556,\"#d8576b\"],[0.6666666666666666,\"#ed7953\"],[0.7777777777777778,\"#fb9f3a\"],[0.8888888888888888,\"#fdca26\"],[1.0,\"#f0f921\"]],\"diverging\":[[0,\"#8e0152\"],[0.1,\"#c51b7d\"],[0.2,\"#de77ae\"],[0.3,\"#f1b6da\"],[0.4,\"#fde0ef\"],[0.5,\"#f7f7f7\"],[0.6,\"#e6f5d0\"],[0.7,\"#b8e186\"],[0.8,\"#7fbc41\"],[0.9,\"#4d9221\"],[1,\"#276419\"]]},\"xaxis\":{\"gridcolor\":\"white\",\"linecolor\":\"white\",\"ticks\":\"\",\"title\":{\"standoff\":15},\"zerolinecolor\":\"white\",\"automargin\":true,\"zerolinewidth\":2},\"yaxis\":{\"gridcolor\":\"white\",\"linecolor\":\"white\",\"ticks\":\"\",\"title\":{\"standoff\":15},\"zerolinecolor\":\"white\",\"automargin\":true,\"zerolinewidth\":2},\"scene\":{\"xaxis\":{\"backgroundcolor\":\"#E5ECF6\",\"gridcolor\":\"white\",\"linecolor\":\"white\",\"showbackground\":true,\"ticks\":\"\",\"zerolinecolor\":\"white\",\"gridwidth\":2},\"yaxis\":{\"backgroundcolor\":\"#E5ECF6\",\"gridcolor\":\"white\",\"linecolor\":\"white\",\"showbackground\":true,\"ticks\":\"\",\"zerolinecolor\":\"white\",\"gridwidth\":2},\"zaxis\":{\"backgroundcolor\":\"#E5ECF6\",\"gridcolor\":\"white\",\"linecolor\":\"white\",\"showbackground\":true,\"ticks\":\"\",\"zerolinecolor\":\"white\",\"gridwidth\":2}},\"shapedefaults\":{\"line\":{\"color\":\"#2a3f5f\"}},\"annotationdefaults\":{\"arrowcolor\":\"#2a3f5f\",\"arrowhead\":0,\"arrowwidth\":1},\"geo\":{\"bgcolor\":\"white\",\"landcolor\":\"#E5ECF6\",\"subunitcolor\":\"white\",\"showland\":true,\"showlakes\":true,\"lakecolor\":\"white\"},\"title\":{\"x\":0.05},\"mapbox\":{\"style\":\"light\"}}},\"height\":500,\"width\":700,\"xaxis\":{\"title\":{\"text\":\"Epoch\"}},\"yaxis\":{\"title\":{\"text\":\"Loss\"}}},                        {\"responsive\": true}                    ).then(function(){\n",
              "                            \n",
              "var gd = document.getElementById('d939fd45-96d8-4c79-88a9-8d5ab2d91fd6');\n",
              "var x = new MutationObserver(function (mutations, observer) {{\n",
              "        var display = window.getComputedStyle(gd).display;\n",
              "        if (!display || display === 'none') {{\n",
              "            console.log([gd, 'removed!']);\n",
              "            Plotly.purge(gd);\n",
              "            observer.disconnect();\n",
              "        }}\n",
              "}});\n",
              "\n",
              "// Listen for the removal of the full notebook cells\n",
              "var notebookContainer = gd.closest('#notebook-container');\n",
              "if (notebookContainer) {{\n",
              "    x.observe(notebookContainer, {childList: true});\n",
              "}}\n",
              "\n",
              "// Listen for the clearing of the current output cell\n",
              "var outputEl = gd.closest('.output');\n",
              "if (outputEl) {{\n",
              "    x.observe(outputEl, {childList: true});\n",
              "}}\n",
              "\n",
              "                        })                };                            </script>        </div>\n",
              "</body>\n",
              "</html>"
            ]
          },
          "metadata": {}
        }
      ]
    },
    {
      "cell_type": "code",
      "source": [
        "fig = go.Figure()\n",
        "fig.add_trace(go.Scattergl(y=history.history['mae'],\n",
        "\n",
        "name='Train'))\n",
        "\n",
        "fig.add_trace(go.Scattergl(y=history.history['val_mae'],\n",
        "\n",
        "name='Valid'))\n",
        "\n",
        "fig.update_layout(height=500, width=700,\n",
        "xaxis_title='Epoch',\n",
        "yaxis_title='Mean Absolute Error')\n",
        "\n",
        "fig.show()"
      ],
      "metadata": {
        "colab": {
          "base_uri": "https://localhost:8080/",
          "height": 517
        },
        "id": "-Cvk-qIVXtEJ",
        "outputId": "016448ef-9313-4f31-a150-6804b7c6fe7c"
      },
      "execution_count": null,
      "outputs": [
        {
          "output_type": "display_data",
          "data": {
            "text/html": [
              "<html>\n",
              "<head><meta charset=\"utf-8\" /></head>\n",
              "<body>\n",
              "    <div>            <script src=\"https://cdnjs.cloudflare.com/ajax/libs/mathjax/2.7.5/MathJax.js?config=TeX-AMS-MML_SVG\"></script><script type=\"text/javascript\">if (window.MathJax && window.MathJax.Hub && window.MathJax.Hub.Config) {window.MathJax.Hub.Config({SVG: {font: \"STIX-Web\"}});}</script>                <script type=\"text/javascript\">window.PlotlyConfig = {MathJaxConfig: 'local'};</script>\n",
              "        <script src=\"https://cdn.plot.ly/plotly-2.18.2.min.js\"></script>                <div id=\"ececfd30-d43a-45b2-95a8-a9835c4d7e04\" class=\"plotly-graph-div\" style=\"height:500px; width:700px;\"></div>            <script type=\"text/javascript\">                                    window.PLOTLYENV=window.PLOTLYENV || {};                                    if (document.getElementById(\"ececfd30-d43a-45b2-95a8-a9835c4d7e04\")) {                    Plotly.newPlot(                        \"ececfd30-d43a-45b2-95a8-a9835c4d7e04\",                        [{\"name\":\"Train\",\"y\":[22.398283004760742,20.534196853637695,16.479618072509766,10.19468879699707,7.655365943908691,5.604012489318848,4.583526134490967,3.8672938346862793,3.537346601486206,3.278757333755493,3.176185131072998,3.059091806411743,2.9382524490356445,2.8940563201904297,2.8318469524383545,2.7536144256591797,2.747746229171753,2.696911573410034,2.64444637298584,2.6679601669311523,2.580112934112549,2.5830421447753906,2.524064302444458,2.507580280303955,2.4807217121124268,2.4445905685424805,2.4085514545440674,2.418332099914551,2.3654379844665527,2.3482608795166016,2.3624563217163086,2.306382179260254,2.3118972778320312,2.3279547691345215,2.242406129837036,2.280827522277832,2.212526321411133,2.1973068714141846,2.188330888748169,2.163400650024414,2.1203062534332275,2.129108428955078,2.077976703643799,2.083298921585083,2.0781869888305664,2.056429862976074,2.0346999168395996,1.9954458475112915,1.9790639877319336,1.9716466665267944,1.9450552463531494,1.9182143211364746,1.890292763710022,1.9132003784179688,1.8829809427261353,1.8653173446655273,1.8418526649475098,1.8256125450134277,1.793442726135254,1.7846704721450806,1.7623283863067627,1.7899765968322754,1.7440881729125977,1.7467862367630005,1.7597062587738037,1.7791292667388916,1.7719334363937378,1.7172448635101318,1.7077505588531494,1.6638352870941162,1.6702214479446411,1.6008245944976807,1.6258842945098877,1.6289690732955933,1.6163842678070068,1.6242097616195679,1.563496708869934,1.5661344528198242,1.5439974069595337,1.5646734237670898,1.5093637704849243,1.5064741373062134,1.4910898208618164,1.5207103490829468,1.4719047546386719,1.500335931777954,1.4571433067321777,1.4278497695922852,1.4404605627059937,1.4197022914886475,1.4205683469772339,1.436578392982483,1.4067418575286865,1.4193781614303589,1.4615933895111084,1.3538647890090942,1.3651474714279175,1.395106315612793,1.3718904256820679,1.360137939453125],\"type\":\"scattergl\"},{\"name\":\"Valid\",\"y\":[20.760269165039062,17.94127655029297,11.82278060913086,5.426071643829346,5.028724193572998,4.817947864532471,4.431013107299805,4.598701000213623,4.65944242477417,4.507017612457275,4.5470428466796875,4.566434383392334,4.505369186401367,4.5177717208862305,4.452120780944824,4.467993259429932,4.337949752807617,4.361273765563965,4.322953224182129,4.2769083976745605,4.356094837188721,4.244114398956299,4.202085494995117,4.150876998901367,4.11621618270874,4.276881694793701,4.180886745452881,3.9893786907196045,4.110413551330566,4.037378787994385,3.9341464042663574,4.068090915679932,4.011662006378174,3.761282205581665,4.017221927642822,3.8859829902648926,3.8156137466430664,3.9691760540008545,3.710486888885498,3.8886616230010986,3.735248565673828,3.767610788345337,3.664787769317627,3.785557985305786,3.655975818634033,3.759183168411255,3.586132049560547,3.574413299560547,3.5172643661499023,3.633176565170288,3.487034320831299,3.6146910190582275,3.5145740509033203,3.5928523540496826,3.471787691116333,3.4601619243621826,3.4662528038024902,3.507816791534424,3.4379043579101562,3.489414930343628,3.3291804790496826,3.46626877784729,3.3504104614257812,3.382481813430786,3.467972755432129,3.319793224334717,3.25224232673645,3.225314140319824,3.3715357780456543,3.2266170978546143,3.290990114212036,3.2108874320983887,3.270359992980957,3.2243919372558594,3.2496578693389893,3.193211078643799,3.205583333969116,3.1935245990753174,3.092965841293335,3.13308048248291,3.101515054702759,3.088956117630005,3.2401533126831055,2.919790267944336,3.1942813396453857,3.0451979637145996,3.0676233768463135,3.034761667251587,3.111875295639038,2.923297166824341,3.049492359161377,3.0434303283691406,2.958801746368408,3.039966106414795,2.9435300827026367,2.98618221282959,3.015122652053833,2.8239641189575195,3.0173110961914062,2.715688943862915],\"type\":\"scattergl\"}],                        {\"template\":{\"data\":{\"histogram2dcontour\":[{\"type\":\"histogram2dcontour\",\"colorbar\":{\"outlinewidth\":0,\"ticks\":\"\"},\"colorscale\":[[0.0,\"#0d0887\"],[0.1111111111111111,\"#46039f\"],[0.2222222222222222,\"#7201a8\"],[0.3333333333333333,\"#9c179e\"],[0.4444444444444444,\"#bd3786\"],[0.5555555555555556,\"#d8576b\"],[0.6666666666666666,\"#ed7953\"],[0.7777777777777778,\"#fb9f3a\"],[0.8888888888888888,\"#fdca26\"],[1.0,\"#f0f921\"]]}],\"choropleth\":[{\"type\":\"choropleth\",\"colorbar\":{\"outlinewidth\":0,\"ticks\":\"\"}}],\"histogram2d\":[{\"type\":\"histogram2d\",\"colorbar\":{\"outlinewidth\":0,\"ticks\":\"\"},\"colorscale\":[[0.0,\"#0d0887\"],[0.1111111111111111,\"#46039f\"],[0.2222222222222222,\"#7201a8\"],[0.3333333333333333,\"#9c179e\"],[0.4444444444444444,\"#bd3786\"],[0.5555555555555556,\"#d8576b\"],[0.6666666666666666,\"#ed7953\"],[0.7777777777777778,\"#fb9f3a\"],[0.8888888888888888,\"#fdca26\"],[1.0,\"#f0f921\"]]}],\"heatmap\":[{\"type\":\"heatmap\",\"colorbar\":{\"outlinewidth\":0,\"ticks\":\"\"},\"colorscale\":[[0.0,\"#0d0887\"],[0.1111111111111111,\"#46039f\"],[0.2222222222222222,\"#7201a8\"],[0.3333333333333333,\"#9c179e\"],[0.4444444444444444,\"#bd3786\"],[0.5555555555555556,\"#d8576b\"],[0.6666666666666666,\"#ed7953\"],[0.7777777777777778,\"#fb9f3a\"],[0.8888888888888888,\"#fdca26\"],[1.0,\"#f0f921\"]]}],\"heatmapgl\":[{\"type\":\"heatmapgl\",\"colorbar\":{\"outlinewidth\":0,\"ticks\":\"\"},\"colorscale\":[[0.0,\"#0d0887\"],[0.1111111111111111,\"#46039f\"],[0.2222222222222222,\"#7201a8\"],[0.3333333333333333,\"#9c179e\"],[0.4444444444444444,\"#bd3786\"],[0.5555555555555556,\"#d8576b\"],[0.6666666666666666,\"#ed7953\"],[0.7777777777777778,\"#fb9f3a\"],[0.8888888888888888,\"#fdca26\"],[1.0,\"#f0f921\"]]}],\"contourcarpet\":[{\"type\":\"contourcarpet\",\"colorbar\":{\"outlinewidth\":0,\"ticks\":\"\"}}],\"contour\":[{\"type\":\"contour\",\"colorbar\":{\"outlinewidth\":0,\"ticks\":\"\"},\"colorscale\":[[0.0,\"#0d0887\"],[0.1111111111111111,\"#46039f\"],[0.2222222222222222,\"#7201a8\"],[0.3333333333333333,\"#9c179e\"],[0.4444444444444444,\"#bd3786\"],[0.5555555555555556,\"#d8576b\"],[0.6666666666666666,\"#ed7953\"],[0.7777777777777778,\"#fb9f3a\"],[0.8888888888888888,\"#fdca26\"],[1.0,\"#f0f921\"]]}],\"surface\":[{\"type\":\"surface\",\"colorbar\":{\"outlinewidth\":0,\"ticks\":\"\"},\"colorscale\":[[0.0,\"#0d0887\"],[0.1111111111111111,\"#46039f\"],[0.2222222222222222,\"#7201a8\"],[0.3333333333333333,\"#9c179e\"],[0.4444444444444444,\"#bd3786\"],[0.5555555555555556,\"#d8576b\"],[0.6666666666666666,\"#ed7953\"],[0.7777777777777778,\"#fb9f3a\"],[0.8888888888888888,\"#fdca26\"],[1.0,\"#f0f921\"]]}],\"mesh3d\":[{\"type\":\"mesh3d\",\"colorbar\":{\"outlinewidth\":0,\"ticks\":\"\"}}],\"scatter\":[{\"fillpattern\":{\"fillmode\":\"overlay\",\"size\":10,\"solidity\":0.2},\"type\":\"scatter\"}],\"parcoords\":[{\"type\":\"parcoords\",\"line\":{\"colorbar\":{\"outlinewidth\":0,\"ticks\":\"\"}}}],\"scatterpolargl\":[{\"type\":\"scatterpolargl\",\"marker\":{\"colorbar\":{\"outlinewidth\":0,\"ticks\":\"\"}}}],\"bar\":[{\"error_x\":{\"color\":\"#2a3f5f\"},\"error_y\":{\"color\":\"#2a3f5f\"},\"marker\":{\"line\":{\"color\":\"#E5ECF6\",\"width\":0.5},\"pattern\":{\"fillmode\":\"overlay\",\"size\":10,\"solidity\":0.2}},\"type\":\"bar\"}],\"scattergeo\":[{\"type\":\"scattergeo\",\"marker\":{\"colorbar\":{\"outlinewidth\":0,\"ticks\":\"\"}}}],\"scatterpolar\":[{\"type\":\"scatterpolar\",\"marker\":{\"colorbar\":{\"outlinewidth\":0,\"ticks\":\"\"}}}],\"histogram\":[{\"marker\":{\"pattern\":{\"fillmode\":\"overlay\",\"size\":10,\"solidity\":0.2}},\"type\":\"histogram\"}],\"scattergl\":[{\"type\":\"scattergl\",\"marker\":{\"colorbar\":{\"outlinewidth\":0,\"ticks\":\"\"}}}],\"scatter3d\":[{\"type\":\"scatter3d\",\"line\":{\"colorbar\":{\"outlinewidth\":0,\"ticks\":\"\"}},\"marker\":{\"colorbar\":{\"outlinewidth\":0,\"ticks\":\"\"}}}],\"scattermapbox\":[{\"type\":\"scattermapbox\",\"marker\":{\"colorbar\":{\"outlinewidth\":0,\"ticks\":\"\"}}}],\"scatterternary\":[{\"type\":\"scatterternary\",\"marker\":{\"colorbar\":{\"outlinewidth\":0,\"ticks\":\"\"}}}],\"scattercarpet\":[{\"type\":\"scattercarpet\",\"marker\":{\"colorbar\":{\"outlinewidth\":0,\"ticks\":\"\"}}}],\"carpet\":[{\"aaxis\":{\"endlinecolor\":\"#2a3f5f\",\"gridcolor\":\"white\",\"linecolor\":\"white\",\"minorgridcolor\":\"white\",\"startlinecolor\":\"#2a3f5f\"},\"baxis\":{\"endlinecolor\":\"#2a3f5f\",\"gridcolor\":\"white\",\"linecolor\":\"white\",\"minorgridcolor\":\"white\",\"startlinecolor\":\"#2a3f5f\"},\"type\":\"carpet\"}],\"table\":[{\"cells\":{\"fill\":{\"color\":\"#EBF0F8\"},\"line\":{\"color\":\"white\"}},\"header\":{\"fill\":{\"color\":\"#C8D4E3\"},\"line\":{\"color\":\"white\"}},\"type\":\"table\"}],\"barpolar\":[{\"marker\":{\"line\":{\"color\":\"#E5ECF6\",\"width\":0.5},\"pattern\":{\"fillmode\":\"overlay\",\"size\":10,\"solidity\":0.2}},\"type\":\"barpolar\"}],\"pie\":[{\"automargin\":true,\"type\":\"pie\"}]},\"layout\":{\"autotypenumbers\":\"strict\",\"colorway\":[\"#636efa\",\"#EF553B\",\"#00cc96\",\"#ab63fa\",\"#FFA15A\",\"#19d3f3\",\"#FF6692\",\"#B6E880\",\"#FF97FF\",\"#FECB52\"],\"font\":{\"color\":\"#2a3f5f\"},\"hovermode\":\"closest\",\"hoverlabel\":{\"align\":\"left\"},\"paper_bgcolor\":\"white\",\"plot_bgcolor\":\"#E5ECF6\",\"polar\":{\"bgcolor\":\"#E5ECF6\",\"angularaxis\":{\"gridcolor\":\"white\",\"linecolor\":\"white\",\"ticks\":\"\"},\"radialaxis\":{\"gridcolor\":\"white\",\"linecolor\":\"white\",\"ticks\":\"\"}},\"ternary\":{\"bgcolor\":\"#E5ECF6\",\"aaxis\":{\"gridcolor\":\"white\",\"linecolor\":\"white\",\"ticks\":\"\"},\"baxis\":{\"gridcolor\":\"white\",\"linecolor\":\"white\",\"ticks\":\"\"},\"caxis\":{\"gridcolor\":\"white\",\"linecolor\":\"white\",\"ticks\":\"\"}},\"coloraxis\":{\"colorbar\":{\"outlinewidth\":0,\"ticks\":\"\"}},\"colorscale\":{\"sequential\":[[0.0,\"#0d0887\"],[0.1111111111111111,\"#46039f\"],[0.2222222222222222,\"#7201a8\"],[0.3333333333333333,\"#9c179e\"],[0.4444444444444444,\"#bd3786\"],[0.5555555555555556,\"#d8576b\"],[0.6666666666666666,\"#ed7953\"],[0.7777777777777778,\"#fb9f3a\"],[0.8888888888888888,\"#fdca26\"],[1.0,\"#f0f921\"]],\"sequentialminus\":[[0.0,\"#0d0887\"],[0.1111111111111111,\"#46039f\"],[0.2222222222222222,\"#7201a8\"],[0.3333333333333333,\"#9c179e\"],[0.4444444444444444,\"#bd3786\"],[0.5555555555555556,\"#d8576b\"],[0.6666666666666666,\"#ed7953\"],[0.7777777777777778,\"#fb9f3a\"],[0.8888888888888888,\"#fdca26\"],[1.0,\"#f0f921\"]],\"diverging\":[[0,\"#8e0152\"],[0.1,\"#c51b7d\"],[0.2,\"#de77ae\"],[0.3,\"#f1b6da\"],[0.4,\"#fde0ef\"],[0.5,\"#f7f7f7\"],[0.6,\"#e6f5d0\"],[0.7,\"#b8e186\"],[0.8,\"#7fbc41\"],[0.9,\"#4d9221\"],[1,\"#276419\"]]},\"xaxis\":{\"gridcolor\":\"white\",\"linecolor\":\"white\",\"ticks\":\"\",\"title\":{\"standoff\":15},\"zerolinecolor\":\"white\",\"automargin\":true,\"zerolinewidth\":2},\"yaxis\":{\"gridcolor\":\"white\",\"linecolor\":\"white\",\"ticks\":\"\",\"title\":{\"standoff\":15},\"zerolinecolor\":\"white\",\"automargin\":true,\"zerolinewidth\":2},\"scene\":{\"xaxis\":{\"backgroundcolor\":\"#E5ECF6\",\"gridcolor\":\"white\",\"linecolor\":\"white\",\"showbackground\":true,\"ticks\":\"\",\"zerolinecolor\":\"white\",\"gridwidth\":2},\"yaxis\":{\"backgroundcolor\":\"#E5ECF6\",\"gridcolor\":\"white\",\"linecolor\":\"white\",\"showbackground\":true,\"ticks\":\"\",\"zerolinecolor\":\"white\",\"gridwidth\":2},\"zaxis\":{\"backgroundcolor\":\"#E5ECF6\",\"gridcolor\":\"white\",\"linecolor\":\"white\",\"showbackground\":true,\"ticks\":\"\",\"zerolinecolor\":\"white\",\"gridwidth\":2}},\"shapedefaults\":{\"line\":{\"color\":\"#2a3f5f\"}},\"annotationdefaults\":{\"arrowcolor\":\"#2a3f5f\",\"arrowhead\":0,\"arrowwidth\":1},\"geo\":{\"bgcolor\":\"white\",\"landcolor\":\"#E5ECF6\",\"subunitcolor\":\"white\",\"showland\":true,\"showlakes\":true,\"lakecolor\":\"white\"},\"title\":{\"x\":0.05},\"mapbox\":{\"style\":\"light\"}}},\"height\":500,\"width\":700,\"xaxis\":{\"title\":{\"text\":\"Epoch\"}},\"yaxis\":{\"title\":{\"text\":\"Mean Absolute Error\"}}},                        {\"responsive\": true}                    ).then(function(){\n",
              "                            \n",
              "var gd = document.getElementById('ececfd30-d43a-45b2-95a8-a9835c4d7e04');\n",
              "var x = new MutationObserver(function (mutations, observer) {{\n",
              "        var display = window.getComputedStyle(gd).display;\n",
              "        if (!display || display === 'none') {{\n",
              "            console.log([gd, 'removed!']);\n",
              "            Plotly.purge(gd);\n",
              "            observer.disconnect();\n",
              "        }}\n",
              "}});\n",
              "\n",
              "// Listen for the removal of the full notebook cells\n",
              "var notebookContainer = gd.closest('#notebook-container');\n",
              "if (notebookContainer) {{\n",
              "    x.observe(notebookContainer, {childList: true});\n",
              "}}\n",
              "\n",
              "// Listen for the clearing of the current output cell\n",
              "var outputEl = gd.closest('.output');\n",
              "if (outputEl) {{\n",
              "    x.observe(outputEl, {childList: true});\n",
              "}}\n",
              "\n",
              "                        })                };                            </script>        </div>\n",
              "</body>\n",
              "</html>"
            ]
          },
          "metadata": {}
        }
      ]
    },
    {
      "cell_type": "code",
      "source": [
        "y_pred = model.predict(X_test)\n",
        "mse_nn, mae_nn = model.evaluate(X_test, y_test)\n",
        "print('Mean squared error on test data: ', mse_nn)\n",
        "print('Mean absolute error on test data: ', mae_nn)"
      ],
      "metadata": {
        "colab": {
          "base_uri": "https://localhost:8080/"
        },
        "id": "Me6W809kX0l-",
        "outputId": "890257ff-f789-49b1-9670-31756b8bb083"
      },
      "execution_count": null,
      "outputs": [
        {
          "output_type": "stream",
          "name": "stdout",
          "text": [
            "5/5 [==============================] - 0s 3ms/step\n",
            "5/5 [==============================] - 0s 4ms/step - loss: 10.6805 - mae: 2.1088\n",
            "Mean squared error on test data:  10.68048095703125\n",
            "Mean absolute error on test data:  2.1087613105773926\n"
          ]
        }
      ]
    },
    {
      "cell_type": "code",
      "source": [
        "from sklearn.metrics import mean_absolute_error\n",
        "lr_model = LinearRegression()\n",
        "lr_model.fit(X_train, y_train)\n",
        "y_pred_lr = lr_model.predict(X_test)\n",
        "mse_lr = mean_squared_error(y_test, y_pred_lr)\n",
        "mae_lr = mean_absolute_error(y_test, y_pred_lr)\n",
        "print('Mean squared error on test data: ', mse_lr)\n",
        "print('Mean absolute error on test data: ', mae_lr)"
      ],
      "metadata": {
        "colab": {
          "base_uri": "https://localhost:8080/"
        },
        "id": "qu9yaqeKX5II",
        "outputId": "676108bc-3465-47a3-c899-901791c6a7fb"
      },
      "execution_count": null,
      "outputs": [
        {
          "output_type": "stream",
          "name": "stdout",
          "text": [
            "Mean squared error on test data:  21.51744423117721\n",
            "Mean absolute error on test data:  3.1627098714574053\n"
          ]
        }
      ]
    },
    {
      "cell_type": "code",
      "source": [
        "from sklearn.metrics import r2_score\n",
        "r2 = r2_score(y_test, y_pred)\n",
        "print(r2)"
      ],
      "metadata": {
        "colab": {
          "base_uri": "https://localhost:8080/"
        },
        "id": "-6FwHpXDYG_B",
        "outputId": "eaf52b35-c56d-47d1-e80e-7e5ad7a407f4"
      },
      "execution_count": null,
      "outputs": [
        {
          "output_type": "stream",
          "name": "stdout",
          "text": [
            "0.8566630388558244\n"
          ]
        }
      ]
    },
    {
      "cell_type": "code",
      "source": [
        "import sklearn\n",
        "new_data = sklearn.preprocessing.StandardScaler().fit_transform(([[0.1, 10.0,\n",
        "5.0, 0, 0.4, 6.0, 50, 6.0, 1, 400, 20, 300, 10]]))\n",
        "prediction = model.predict(new_data)\n",
        "print(\"Predicted house price:\", prediction)"
      ],
      "metadata": {
        "id": "VrlzdQk9YNmK",
        "outputId": "c9ecf890-2aa6-4aa0-d0d1-29fbb3bd846a",
        "colab": {
          "base_uri": "https://localhost:8080/"
        }
      },
      "execution_count": null,
      "outputs": [
        {
          "output_type": "stream",
          "name": "stdout",
          "text": [
            "1/1 [==============================] - 0s 24ms/step\n",
            "Predicted house price: [[11.467652]]\n"
          ]
        }
      ]
    },
    {
      "cell_type": "markdown",
      "metadata": {
        "id": "4c6OYKIgafDz"
      },
      "source": []
    }
  ],
  "metadata": {
    "colab": {
      "provenance": []
    },
    "kernelspec": {
      "display_name": "Python 3",
      "name": "python3"
    },
    "language_info": {
      "name": "python"
    }
  },
  "nbformat": 4,
  "nbformat_minor": 0
}